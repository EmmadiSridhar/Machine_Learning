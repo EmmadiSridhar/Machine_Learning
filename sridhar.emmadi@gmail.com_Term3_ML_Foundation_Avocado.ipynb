{
 "cells": [
  {
   "cell_type": "markdown",
   "metadata": {},
   "source": [
    "---\n",
    "**Table of Contents**\n",
    "---\n",
    "\n",
    "1. [**Introduction**]\n",
    "2. [**Problem Statement**]\n",
    "3. [**Installing and Importing Libraries**]\n",
    "4. [**Data Acquisition and Description**]\n",
    "5. [**EDA**]\n",
    "6. [**Linear Regression**]\n",
    "7. [**Decision Tree**]\n",
    "8. [**Random Forest**]\n",
    "9. [**GridSearchCV**]\n",
    "10. [**RandomizedSearchCV**]\n",
    "11. [**Conclusion**]\n"
   ]
  },
  {
   "cell_type": "markdown",
   "metadata": {},
   "source": [
    "1.**Introduction**\n",
    "\n",
    "The dataset contains weekly retail scan data for National Retail Volume (units) and price.\n",
    "\n",
    "Retail scan data comes directly from retailers’ cash registers based on actual retail sales of Hass avocados.\n",
    "\n",
    "The column AveragePrice is the average price of a single avocado.\n",
    "\n",
    "This is the data that have to predict for future samples."
   ]
  },
  {
   "cell_type": "markdown",
   "metadata": {},
   "source": [
    "2.**Problem Statement**\n",
    "\n",
    "- Avacard-corp avocados are sourced from over 1000 growers owning over 65,000 acres across California, Mexico, Chile, and Peru.\n",
    "\n",
    "- With generations of experience growing, packing, and shipping avocados, they have a deep understanding of the avocado industry.\n",
    "\n",
    "- Their aim is to source quality fruit that’s sustainably grown and handled in the most efficient, shortest supply route possible.\n",
    "\n",
    "- They want to increase their supply throughout the United States and need to make sure that they are selling their products at the best possible price.\n",
    "\n",
    "- Avocado prices have rocketed in recent years by up to 129%, with the average national price in the US of a single Hass avocado reaching $2.10 in 2019, almost doubling in just one year.\n",
    "\n",
    "- Due to this uncertainty in the prices, the company is not able to sell their produce at the optimal price.\n",
    "\n",
    "- Task is to predict the optimal price of the avocardo using the previous sales data of avocardo according to different regions."
   ]
  },
  {
   "cell_type": "markdown",
   "metadata": {},
   "source": [
    "3.**Importing Libraries**"
   ]
  },
  {
   "cell_type": "code",
   "execution_count": 2,
   "metadata": {},
   "outputs": [],
   "source": [
    "import pandas as pd\n",
    "import warnings \n",
    "warnings.simplefilter('ignore')\n",
    "import seaborn as sns\n",
    "import matplotlib.pyplot as plt"
   ]
  },
  {
   "cell_type": "markdown",
   "metadata": {},
   "source": [
    "4.**Data Acquisition and Description**"
   ]
  },
  {
   "cell_type": "code",
   "execution_count": 3,
   "metadata": {},
   "outputs": [
    {
     "data": {
      "text/html": [
       "<div>\n",
       "<style scoped>\n",
       "    .dataframe tbody tr th:only-of-type {\n",
       "        vertical-align: middle;\n",
       "    }\n",
       "\n",
       "    .dataframe tbody tr th {\n",
       "        vertical-align: top;\n",
       "    }\n",
       "\n",
       "    .dataframe thead th {\n",
       "        text-align: right;\n",
       "    }\n",
       "</style>\n",
       "<table border=\"1\" class=\"dataframe\">\n",
       "  <thead>\n",
       "    <tr style=\"text-align: right;\">\n",
       "      <th></th>\n",
       "      <th>Unnamed: 0</th>\n",
       "      <th>Date</th>\n",
       "      <th>AveragePrice</th>\n",
       "      <th>Total Volume</th>\n",
       "      <th>4046</th>\n",
       "      <th>4225</th>\n",
       "      <th>4770</th>\n",
       "      <th>Total Bags</th>\n",
       "      <th>Small Bags</th>\n",
       "      <th>Large Bags</th>\n",
       "      <th>XLarge Bags</th>\n",
       "      <th>type</th>\n",
       "      <th>year</th>\n",
       "      <th>region</th>\n",
       "    </tr>\n",
       "  </thead>\n",
       "  <tbody>\n",
       "    <tr>\n",
       "      <th>0</th>\n",
       "      <td>0</td>\n",
       "      <td>2015-12-27</td>\n",
       "      <td>1.33</td>\n",
       "      <td>64236.62</td>\n",
       "      <td>1036.74</td>\n",
       "      <td>54454.85</td>\n",
       "      <td>48.16</td>\n",
       "      <td>8696.87</td>\n",
       "      <td>8603.62</td>\n",
       "      <td>93.25</td>\n",
       "      <td>0.0</td>\n",
       "      <td>conventional</td>\n",
       "      <td>2015</td>\n",
       "      <td>Albany</td>\n",
       "    </tr>\n",
       "    <tr>\n",
       "      <th>1</th>\n",
       "      <td>1</td>\n",
       "      <td>2015-12-20</td>\n",
       "      <td>1.35</td>\n",
       "      <td>54876.98</td>\n",
       "      <td>674.28</td>\n",
       "      <td>44638.81</td>\n",
       "      <td>58.33</td>\n",
       "      <td>9505.56</td>\n",
       "      <td>9408.07</td>\n",
       "      <td>97.49</td>\n",
       "      <td>0.0</td>\n",
       "      <td>conventional</td>\n",
       "      <td>2015</td>\n",
       "      <td>Albany</td>\n",
       "    </tr>\n",
       "  </tbody>\n",
       "</table>\n",
       "</div>"
      ],
      "text/plain": [
       "   Unnamed: 0        Date  AveragePrice  Total Volume     4046      4225  \\\n",
       "0           0  2015-12-27          1.33      64236.62  1036.74  54454.85   \n",
       "1           1  2015-12-20          1.35      54876.98   674.28  44638.81   \n",
       "\n",
       "    4770  Total Bags  Small Bags  Large Bags  XLarge Bags          type  year  \\\n",
       "0  48.16     8696.87     8603.62       93.25          0.0  conventional  2015   \n",
       "1  58.33     9505.56     9408.07       97.49          0.0  conventional  2015   \n",
       "\n",
       "   region  \n",
       "0  Albany  \n",
       "1  Albany  "
      ]
     },
     "execution_count": 3,
     "metadata": {},
     "output_type": "execute_result"
    }
   ],
   "source": [
    "df = pd.read_csv('https://raw.githubusercontent.com/insaid2018/Term-2/master/Projects/avocado.csv')\n",
    "df.head(2)"
   ]
  },
  {
   "cell_type": "markdown",
   "metadata": {},
   "source": [
    "|Column Name||\tDescription|\n",
    "|Id||\tUnique identity of each observation.|\n",
    "|Date||\tThe date of the observation.|\n",
    "|AveragePrice||\tThe average price of a single avocado.|\n",
    "|Total Volume||\tTotal number of avocados sold.|\n",
    "|4046||\tTotal number of avocados with PLU 4046 sold.|\n",
    "|4225||\tTotal number of avocados with PLU 4225 sold.|\n",
    "|4770||\tTotal number of avocados with PLU 4770 sold.|\n",
    "|Total Bags||\tTotal number of bags sold.|\n",
    "|Small Bags||\tTotal number of small bags sold.|\n",
    "|Large Bags||\tTotal number of large bags sold.|\n",
    "|XLarge Bags||\tTotal number of extra-large bags sold.|\n",
    "|type||\tType of an avocado (conventional or organic).|\n",
    "|year||\tThe year of observation.|\n",
    "|Region||\tThe city or region of the observation.|"
   ]
  },
  {
   "cell_type": "markdown",
   "metadata": {},
   "source": [
    "5.**EDA & Profiling**"
   ]
  },
  {
   "cell_type": "code",
   "execution_count": 4,
   "metadata": {},
   "outputs": [
    {
     "data": {
      "text/html": [
       "<div>\n",
       "<style scoped>\n",
       "    .dataframe tbody tr th:only-of-type {\n",
       "        vertical-align: middle;\n",
       "    }\n",
       "\n",
       "    .dataframe tbody tr th {\n",
       "        vertical-align: top;\n",
       "    }\n",
       "\n",
       "    .dataframe thead th {\n",
       "        text-align: right;\n",
       "    }\n",
       "</style>\n",
       "<table border=\"1\" class=\"dataframe\">\n",
       "  <thead>\n",
       "    <tr style=\"text-align: right;\">\n",
       "      <th></th>\n",
       "      <th>Unnamed: 0</th>\n",
       "      <th>AveragePrice</th>\n",
       "      <th>Total Volume</th>\n",
       "      <th>4046</th>\n",
       "      <th>4225</th>\n",
       "      <th>4770</th>\n",
       "      <th>Total Bags</th>\n",
       "      <th>Small Bags</th>\n",
       "      <th>Large Bags</th>\n",
       "      <th>XLarge Bags</th>\n",
       "      <th>year</th>\n",
       "    </tr>\n",
       "  </thead>\n",
       "  <tbody>\n",
       "    <tr>\n",
       "      <th>count</th>\n",
       "      <td>18249.000000</td>\n",
       "      <td>18249.000000</td>\n",
       "      <td>1.824900e+04</td>\n",
       "      <td>1.824900e+04</td>\n",
       "      <td>1.824900e+04</td>\n",
       "      <td>1.824900e+04</td>\n",
       "      <td>1.824900e+04</td>\n",
       "      <td>1.824900e+04</td>\n",
       "      <td>1.824900e+04</td>\n",
       "      <td>18249.000000</td>\n",
       "      <td>18249.000000</td>\n",
       "    </tr>\n",
       "    <tr>\n",
       "      <th>mean</th>\n",
       "      <td>24.232232</td>\n",
       "      <td>1.405978</td>\n",
       "      <td>8.506440e+05</td>\n",
       "      <td>2.930084e+05</td>\n",
       "      <td>2.951546e+05</td>\n",
       "      <td>2.283974e+04</td>\n",
       "      <td>2.396392e+05</td>\n",
       "      <td>1.821947e+05</td>\n",
       "      <td>5.433809e+04</td>\n",
       "      <td>3106.426507</td>\n",
       "      <td>2016.147899</td>\n",
       "    </tr>\n",
       "    <tr>\n",
       "      <th>std</th>\n",
       "      <td>15.481045</td>\n",
       "      <td>0.402677</td>\n",
       "      <td>3.453545e+06</td>\n",
       "      <td>1.264989e+06</td>\n",
       "      <td>1.204120e+06</td>\n",
       "      <td>1.074641e+05</td>\n",
       "      <td>9.862424e+05</td>\n",
       "      <td>7.461785e+05</td>\n",
       "      <td>2.439660e+05</td>\n",
       "      <td>17692.894652</td>\n",
       "      <td>0.939938</td>\n",
       "    </tr>\n",
       "    <tr>\n",
       "      <th>min</th>\n",
       "      <td>0.000000</td>\n",
       "      <td>0.440000</td>\n",
       "      <td>8.456000e+01</td>\n",
       "      <td>0.000000e+00</td>\n",
       "      <td>0.000000e+00</td>\n",
       "      <td>0.000000e+00</td>\n",
       "      <td>0.000000e+00</td>\n",
       "      <td>0.000000e+00</td>\n",
       "      <td>0.000000e+00</td>\n",
       "      <td>0.000000</td>\n",
       "      <td>2015.000000</td>\n",
       "    </tr>\n",
       "    <tr>\n",
       "      <th>25%</th>\n",
       "      <td>10.000000</td>\n",
       "      <td>1.100000</td>\n",
       "      <td>1.083858e+04</td>\n",
       "      <td>8.540700e+02</td>\n",
       "      <td>3.008780e+03</td>\n",
       "      <td>0.000000e+00</td>\n",
       "      <td>5.088640e+03</td>\n",
       "      <td>2.849420e+03</td>\n",
       "      <td>1.274700e+02</td>\n",
       "      <td>0.000000</td>\n",
       "      <td>2015.000000</td>\n",
       "    </tr>\n",
       "    <tr>\n",
       "      <th>50%</th>\n",
       "      <td>24.000000</td>\n",
       "      <td>1.370000</td>\n",
       "      <td>1.073768e+05</td>\n",
       "      <td>8.645300e+03</td>\n",
       "      <td>2.906102e+04</td>\n",
       "      <td>1.849900e+02</td>\n",
       "      <td>3.974383e+04</td>\n",
       "      <td>2.636282e+04</td>\n",
       "      <td>2.647710e+03</td>\n",
       "      <td>0.000000</td>\n",
       "      <td>2016.000000</td>\n",
       "    </tr>\n",
       "    <tr>\n",
       "      <th>75%</th>\n",
       "      <td>38.000000</td>\n",
       "      <td>1.660000</td>\n",
       "      <td>4.329623e+05</td>\n",
       "      <td>1.110202e+05</td>\n",
       "      <td>1.502069e+05</td>\n",
       "      <td>6.243420e+03</td>\n",
       "      <td>1.107834e+05</td>\n",
       "      <td>8.333767e+04</td>\n",
       "      <td>2.202925e+04</td>\n",
       "      <td>132.500000</td>\n",
       "      <td>2017.000000</td>\n",
       "    </tr>\n",
       "    <tr>\n",
       "      <th>max</th>\n",
       "      <td>52.000000</td>\n",
       "      <td>3.250000</td>\n",
       "      <td>6.250565e+07</td>\n",
       "      <td>2.274362e+07</td>\n",
       "      <td>2.047057e+07</td>\n",
       "      <td>2.546439e+06</td>\n",
       "      <td>1.937313e+07</td>\n",
       "      <td>1.338459e+07</td>\n",
       "      <td>5.719097e+06</td>\n",
       "      <td>551693.650000</td>\n",
       "      <td>2018.000000</td>\n",
       "    </tr>\n",
       "  </tbody>\n",
       "</table>\n",
       "</div>"
      ],
      "text/plain": [
       "         Unnamed: 0  AveragePrice  Total Volume          4046          4225  \\\n",
       "count  18249.000000  18249.000000  1.824900e+04  1.824900e+04  1.824900e+04   \n",
       "mean      24.232232      1.405978  8.506440e+05  2.930084e+05  2.951546e+05   \n",
       "std       15.481045      0.402677  3.453545e+06  1.264989e+06  1.204120e+06   \n",
       "min        0.000000      0.440000  8.456000e+01  0.000000e+00  0.000000e+00   \n",
       "25%       10.000000      1.100000  1.083858e+04  8.540700e+02  3.008780e+03   \n",
       "50%       24.000000      1.370000  1.073768e+05  8.645300e+03  2.906102e+04   \n",
       "75%       38.000000      1.660000  4.329623e+05  1.110202e+05  1.502069e+05   \n",
       "max       52.000000      3.250000  6.250565e+07  2.274362e+07  2.047057e+07   \n",
       "\n",
       "               4770    Total Bags    Small Bags    Large Bags    XLarge Bags  \\\n",
       "count  1.824900e+04  1.824900e+04  1.824900e+04  1.824900e+04   18249.000000   \n",
       "mean   2.283974e+04  2.396392e+05  1.821947e+05  5.433809e+04    3106.426507   \n",
       "std    1.074641e+05  9.862424e+05  7.461785e+05  2.439660e+05   17692.894652   \n",
       "min    0.000000e+00  0.000000e+00  0.000000e+00  0.000000e+00       0.000000   \n",
       "25%    0.000000e+00  5.088640e+03  2.849420e+03  1.274700e+02       0.000000   \n",
       "50%    1.849900e+02  3.974383e+04  2.636282e+04  2.647710e+03       0.000000   \n",
       "75%    6.243420e+03  1.107834e+05  8.333767e+04  2.202925e+04     132.500000   \n",
       "max    2.546439e+06  1.937313e+07  1.338459e+07  5.719097e+06  551693.650000   \n",
       "\n",
       "               year  \n",
       "count  18249.000000  \n",
       "mean    2016.147899  \n",
       "std        0.939938  \n",
       "min     2015.000000  \n",
       "25%     2015.000000  \n",
       "50%     2016.000000  \n",
       "75%     2017.000000  \n",
       "max     2018.000000  "
      ]
     },
     "execution_count": 4,
     "metadata": {},
     "output_type": "execute_result"
    }
   ],
   "source": [
    "df.describe()"
   ]
  },
  {
   "cell_type": "code",
   "execution_count": 5,
   "metadata": {},
   "outputs": [
    {
     "name": "stdout",
     "output_type": "stream",
     "text": [
      "<class 'pandas.core.frame.DataFrame'>\n",
      "RangeIndex: 18249 entries, 0 to 18248\n",
      "Data columns (total 14 columns):\n",
      " #   Column        Non-Null Count  Dtype  \n",
      "---  ------        --------------  -----  \n",
      " 0   Unnamed: 0    18249 non-null  int64  \n",
      " 1   Date          18249 non-null  object \n",
      " 2   AveragePrice  18249 non-null  float64\n",
      " 3   Total Volume  18249 non-null  float64\n",
      " 4   4046          18249 non-null  float64\n",
      " 5   4225          18249 non-null  float64\n",
      " 6   4770          18249 non-null  float64\n",
      " 7   Total Bags    18249 non-null  float64\n",
      " 8   Small Bags    18249 non-null  float64\n",
      " 9   Large Bags    18249 non-null  float64\n",
      " 10  XLarge Bags   18249 non-null  float64\n",
      " 11  type          18249 non-null  object \n",
      " 12  year          18249 non-null  int64  \n",
      " 13  region        18249 non-null  object \n",
      "dtypes: float64(9), int64(2), object(3)\n",
      "memory usage: 1.9+ MB\n"
     ]
    }
   ],
   "source": [
    "df.info()"
   ]
  },
  {
   "cell_type": "markdown",
   "metadata": {},
   "source": [
    "- Dataset having total 14 columns in which 3 are categorical and remaining 11 are numerical"
   ]
  },
  {
   "cell_type": "code",
   "execution_count": 6,
   "metadata": {},
   "outputs": [
    {
     "data": {
      "text/plain": [
       "<AxesSubplot:xlabel='AveragePrice', ylabel='Density'>"
      ]
     },
     "execution_count": 6,
     "metadata": {},
     "output_type": "execute_result"
    },
    {
     "data": {
      "image/png": "[encoded data removed]",
      "text/plain": [
       "<Figure size 432x288 with 1 Axes>"
      ]
     },
     "metadata": {
      "needs_background": "light"
     },
     "output_type": "display_data"
    }
   ],
   "source": [
    "sns.distplot(df.AveragePrice)"
   ]
  },
  {
   "cell_type": "markdown",
   "metadata": {},
   "source": [
    "- Average Price of Avocado is normally distributed with little right skew, let's see the what are the types along with average price"
   ]
  },
  {
   "cell_type": "code",
   "execution_count": 7,
   "metadata": {},
   "outputs": [
    {
     "data": {
      "text/html": [
       "<div>\n",
       "<style scoped>\n",
       "    .dataframe tbody tr th:only-of-type {\n",
       "        vertical-align: middle;\n",
       "    }\n",
       "\n",
       "    .dataframe tbody tr th {\n",
       "        vertical-align: top;\n",
       "    }\n",
       "\n",
       "    .dataframe thead th {\n",
       "        text-align: right;\n",
       "    }\n",
       "</style>\n",
       "<table border=\"1\" class=\"dataframe\">\n",
       "  <thead>\n",
       "    <tr style=\"text-align: right;\">\n",
       "      <th></th>\n",
       "      <th>AveragePrice</th>\n",
       "    </tr>\n",
       "    <tr>\n",
       "      <th>type</th>\n",
       "      <th></th>\n",
       "    </tr>\n",
       "  </thead>\n",
       "  <tbody>\n",
       "    <tr>\n",
       "      <th>conventional</th>\n",
       "      <td>1.158040</td>\n",
       "    </tr>\n",
       "    <tr>\n",
       "      <th>organic</th>\n",
       "      <td>1.653999</td>\n",
       "    </tr>\n",
       "  </tbody>\n",
       "</table>\n",
       "</div>"
      ],
      "text/plain": [
       "              AveragePrice\n",
       "type                      \n",
       "conventional      1.158040\n",
       "organic           1.653999"
      ]
     },
     "execution_count": 7,
     "metadata": {},
     "output_type": "execute_result"
    }
   ],
   "source": [
    "A = df[['type','AveragePrice']]\n",
    "B = A.groupby(by='type').mean().sort_values(by='AveragePrice', ascending = True)\n",
    "B"
   ]
  },
  {
   "cell_type": "code",
   "execution_count": 8,
   "metadata": {},
   "outputs": [
    {
     "data": {
      "text/plain": [
       "Text(0, 0.5, 'Average Price in $')"
      ]
     },
     "execution_count": 8,
     "metadata": {},
     "output_type": "execute_result"
    },
    {
     "data": {
      "image/png": "[encoded data removed]",
      "text/plain": [
       "<Figure size 432x432 with 1 Axes>"
      ]
     },
     "metadata": {
      "needs_background": "light"
     },
     "output_type": "display_data"
    }
   ],
   "source": [
    "plt.figure(figsize=(6,6))\n",
    "sns.barplot(x=B.index,y=B['AveragePrice'])\n",
    "plt.ylabel('Average Price in $')"
   ]
  },
  {
   "cell_type": "markdown",
   "metadata": {},
   "source": [
    "- Organic Avocados are expensive than conventional"
   ]
  },
  {
   "cell_type": "code",
   "execution_count": 9,
   "metadata": {},
   "outputs": [
    {
     "data": {
      "text/html": [
       "<div>\n",
       "<style scoped>\n",
       "    .dataframe tbody tr th:only-of-type {\n",
       "        vertical-align: middle;\n",
       "    }\n",
       "\n",
       "    .dataframe tbody tr th {\n",
       "        vertical-align: top;\n",
       "    }\n",
       "\n",
       "    .dataframe thead th {\n",
       "        text-align: right;\n",
       "    }\n",
       "</style>\n",
       "<table border=\"1\" class=\"dataframe\">\n",
       "  <thead>\n",
       "    <tr style=\"text-align: right;\">\n",
       "      <th></th>\n",
       "      <th>AveragePrice</th>\n",
       "    </tr>\n",
       "    <tr>\n",
       "      <th>year</th>\n",
       "      <th></th>\n",
       "    </tr>\n",
       "  </thead>\n",
       "  <tbody>\n",
       "    <tr>\n",
       "      <th>2017</th>\n",
       "      <td>1.515128</td>\n",
       "    </tr>\n",
       "    <tr>\n",
       "      <th>2015</th>\n",
       "      <td>1.375590</td>\n",
       "    </tr>\n",
       "    <tr>\n",
       "      <th>2018</th>\n",
       "      <td>1.347531</td>\n",
       "    </tr>\n",
       "    <tr>\n",
       "      <th>2016</th>\n",
       "      <td>1.338640</td>\n",
       "    </tr>\n",
       "  </tbody>\n",
       "</table>\n",
       "</div>"
      ],
      "text/plain": [
       "      AveragePrice\n",
       "year              \n",
       "2017      1.515128\n",
       "2015      1.375590\n",
       "2018      1.347531\n",
       "2016      1.338640"
      ]
     },
     "execution_count": 9,
     "metadata": {},
     "output_type": "execute_result"
    }
   ],
   "source": [
    "C = df[['year','AveragePrice']]\n",
    "D = C.groupby(by='year').mean().sort_values(by='AveragePrice',ascending = False)\n",
    "D"
   ]
  },
  {
   "cell_type": "code",
   "execution_count": 10,
   "metadata": {},
   "outputs": [
    {
     "data": {
      "text/plain": [
       "Text(0, 0.5, 'Average Price in $')"
      ]
     },
     "execution_count": 10,
     "metadata": {},
     "output_type": "execute_result"
    },
    {
     "data": {
      "image/png": "[encoded data removed]",
      "text/plain": [
       "<Figure size 432x432 with 1 Axes>"
      ]
     },
     "metadata": {
      "needs_background": "light"
     },
     "output_type": "display_data"
    }
   ],
   "source": [
    "plt.figure(figsize=(6,6))\n",
    "sns.barplot(x=D.index,y=D['AveragePrice'])\n",
    "plt.ylabel('Average Price in $')"
   ]
  },
  {
   "cell_type": "markdown",
   "metadata": {},
   "source": [
    "- There is a spike in price during 2017 and mostly same during 2015, 2017 and 2018"
   ]
  },
  {
   "cell_type": "code",
   "execution_count": 11,
   "metadata": {},
   "outputs": [
    {
     "data": {
      "text/html": [
       "<div>\n",
       "<style scoped>\n",
       "    .dataframe tbody tr th:only-of-type {\n",
       "        vertical-align: middle;\n",
       "    }\n",
       "\n",
       "    .dataframe tbody tr th {\n",
       "        vertical-align: top;\n",
       "    }\n",
       "\n",
       "    .dataframe thead th {\n",
       "        text-align: right;\n",
       "    }\n",
       "</style>\n",
       "<table border=\"1\" class=\"dataframe\">\n",
       "  <thead>\n",
       "    <tr style=\"text-align: right;\">\n",
       "      <th></th>\n",
       "      <th>AveragePrice</th>\n",
       "    </tr>\n",
       "    <tr>\n",
       "      <th>region</th>\n",
       "      <th></th>\n",
       "    </tr>\n",
       "  </thead>\n",
       "  <tbody>\n",
       "    <tr>\n",
       "      <th>HartfordSpringfield</th>\n",
       "      <td>1.818639</td>\n",
       "    </tr>\n",
       "    <tr>\n",
       "      <th>SanFrancisco</th>\n",
       "      <td>1.804201</td>\n",
       "    </tr>\n",
       "    <tr>\n",
       "      <th>NewYork</th>\n",
       "      <td>1.727574</td>\n",
       "    </tr>\n",
       "    <tr>\n",
       "      <th>Philadelphia</th>\n",
       "      <td>1.632130</td>\n",
       "    </tr>\n",
       "    <tr>\n",
       "      <th>Sacramento</th>\n",
       "      <td>1.621568</td>\n",
       "    </tr>\n",
       "    <tr>\n",
       "      <th>Charlotte</th>\n",
       "      <td>1.606036</td>\n",
       "    </tr>\n",
       "    <tr>\n",
       "      <th>Northeast</th>\n",
       "      <td>1.601923</td>\n",
       "    </tr>\n",
       "    <tr>\n",
       "      <th>Albany</th>\n",
       "      <td>1.561036</td>\n",
       "    </tr>\n",
       "    <tr>\n",
       "      <th>Chicago</th>\n",
       "      <td>1.556775</td>\n",
       "    </tr>\n",
       "    <tr>\n",
       "      <th>RaleighGreensboro</th>\n",
       "      <td>1.555118</td>\n",
       "    </tr>\n",
       "    <tr>\n",
       "      <th>BaltimoreWashington</th>\n",
       "      <td>1.534231</td>\n",
       "    </tr>\n",
       "    <tr>\n",
       "      <th>Boston</th>\n",
       "      <td>1.530888</td>\n",
       "    </tr>\n",
       "    <tr>\n",
       "      <th>Syracuse</th>\n",
       "      <td>1.520325</td>\n",
       "    </tr>\n",
       "    <tr>\n",
       "      <th>BuffaloRochester</th>\n",
       "      <td>1.516834</td>\n",
       "    </tr>\n",
       "    <tr>\n",
       "      <th>HarrisburgScranton</th>\n",
       "      <td>1.513284</td>\n",
       "    </tr>\n",
       "    <tr>\n",
       "      <th>Jacksonville</th>\n",
       "      <td>1.510947</td>\n",
       "    </tr>\n",
       "    <tr>\n",
       "      <th>Orlando</th>\n",
       "      <td>1.506213</td>\n",
       "    </tr>\n",
       "    <tr>\n",
       "      <th>GrandRapids</th>\n",
       "      <td>1.505000</td>\n",
       "    </tr>\n",
       "    <tr>\n",
       "      <th>NorthernNewEngland</th>\n",
       "      <td>1.477396</td>\n",
       "    </tr>\n",
       "    <tr>\n",
       "      <th>Spokane</th>\n",
       "      <td>1.445592</td>\n",
       "    </tr>\n",
       "    <tr>\n",
       "      <th>Seattle</th>\n",
       "      <td>1.442574</td>\n",
       "    </tr>\n",
       "    <tr>\n",
       "      <th>Plains</th>\n",
       "      <td>1.436509</td>\n",
       "    </tr>\n",
       "    <tr>\n",
       "      <th>StLouis</th>\n",
       "      <td>1.430621</td>\n",
       "    </tr>\n",
       "    <tr>\n",
       "      <th>MiamiFtLauderdale</th>\n",
       "      <td>1.428491</td>\n",
       "    </tr>\n",
       "    <tr>\n",
       "      <th>Tampa</th>\n",
       "      <td>1.408846</td>\n",
       "    </tr>\n",
       "    <tr>\n",
       "      <th>Midsouth</th>\n",
       "      <td>1.404763</td>\n",
       "    </tr>\n",
       "    <tr>\n",
       "      <th>SouthCarolina</th>\n",
       "      <td>1.403284</td>\n",
       "    </tr>\n",
       "    <tr>\n",
       "      <th>SanDiego</th>\n",
       "      <td>1.398166</td>\n",
       "    </tr>\n",
       "    <tr>\n",
       "      <th>Southeast</th>\n",
       "      <td>1.398018</td>\n",
       "    </tr>\n",
       "    <tr>\n",
       "      <th>California</th>\n",
       "      <td>1.395325</td>\n",
       "    </tr>\n",
       "    <tr>\n",
       "      <th>LasVegas</th>\n",
       "      <td>1.380917</td>\n",
       "    </tr>\n",
       "    <tr>\n",
       "      <th>Pittsburgh</th>\n",
       "      <td>1.364320</td>\n",
       "    </tr>\n",
       "    <tr>\n",
       "      <th>Boise</th>\n",
       "      <td>1.348136</td>\n",
       "    </tr>\n",
       "    <tr>\n",
       "      <th>GreatLakes</th>\n",
       "      <td>1.338550</td>\n",
       "    </tr>\n",
       "    <tr>\n",
       "      <th>Atlanta</th>\n",
       "      <td>1.337959</td>\n",
       "    </tr>\n",
       "    <tr>\n",
       "      <th>TotalUS</th>\n",
       "      <td>1.319024</td>\n",
       "    </tr>\n",
       "    <tr>\n",
       "      <th>Portland</th>\n",
       "      <td>1.317722</td>\n",
       "    </tr>\n",
       "    <tr>\n",
       "      <th>Indianapolis</th>\n",
       "      <td>1.313994</td>\n",
       "    </tr>\n",
       "    <tr>\n",
       "      <th>NewOrleansMobile</th>\n",
       "      <td>1.304793</td>\n",
       "    </tr>\n",
       "    <tr>\n",
       "      <th>RichmondNorfolk</th>\n",
       "      <td>1.291331</td>\n",
       "    </tr>\n",
       "    <tr>\n",
       "      <th>Louisville</th>\n",
       "      <td>1.286686</td>\n",
       "    </tr>\n",
       "    <tr>\n",
       "      <th>Detroit</th>\n",
       "      <td>1.276095</td>\n",
       "    </tr>\n",
       "    <tr>\n",
       "      <th>West</th>\n",
       "      <td>1.272219</td>\n",
       "    </tr>\n",
       "    <tr>\n",
       "      <th>WestTexNewMexico</th>\n",
       "      <td>1.261701</td>\n",
       "    </tr>\n",
       "    <tr>\n",
       "      <th>Columbus</th>\n",
       "      <td>1.252781</td>\n",
       "    </tr>\n",
       "    <tr>\n",
       "      <th>Roanoke</th>\n",
       "      <td>1.247929</td>\n",
       "    </tr>\n",
       "    <tr>\n",
       "      <th>PhoenixTucson</th>\n",
       "      <td>1.224438</td>\n",
       "    </tr>\n",
       "    <tr>\n",
       "      <th>Denver</th>\n",
       "      <td>1.218580</td>\n",
       "    </tr>\n",
       "    <tr>\n",
       "      <th>LosAngeles</th>\n",
       "      <td>1.216006</td>\n",
       "    </tr>\n",
       "    <tr>\n",
       "      <th>Nashville</th>\n",
       "      <td>1.212101</td>\n",
       "    </tr>\n",
       "    <tr>\n",
       "      <th>CincinnatiDayton</th>\n",
       "      <td>1.209201</td>\n",
       "    </tr>\n",
       "    <tr>\n",
       "      <th>SouthCentral</th>\n",
       "      <td>1.101243</td>\n",
       "    </tr>\n",
       "    <tr>\n",
       "      <th>DallasFtWorth</th>\n",
       "      <td>1.085592</td>\n",
       "    </tr>\n",
       "    <tr>\n",
       "      <th>Houston</th>\n",
       "      <td>1.047929</td>\n",
       "    </tr>\n",
       "  </tbody>\n",
       "</table>\n",
       "</div>"
      ],
      "text/plain": [
       "                     AveragePrice\n",
       "region                           \n",
       "HartfordSpringfield      1.818639\n",
       "SanFrancisco             1.804201\n",
       "NewYork                  1.727574\n",
       "Philadelphia             1.632130\n",
       "Sacramento               1.621568\n",
       "Charlotte                1.606036\n",
       "Northeast                1.601923\n",
       "Albany                   1.561036\n",
       "Chicago                  1.556775\n",
       "RaleighGreensboro        1.555118\n",
       "BaltimoreWashington      1.534231\n",
       "Boston                   1.530888\n",
       "Syracuse                 1.520325\n",
       "BuffaloRochester         1.516834\n",
       "HarrisburgScranton       1.513284\n",
       "Jacksonville             1.510947\n",
       "Orlando                  1.506213\n",
       "GrandRapids              1.505000\n",
       "NorthernNewEngland       1.477396\n",
       "Spokane                  1.445592\n",
       "Seattle                  1.442574\n",
       "Plains                   1.436509\n",
       "StLouis                  1.430621\n",
       "MiamiFtLauderdale        1.428491\n",
       "Tampa                    1.408846\n",
       "Midsouth                 1.404763\n",
       "SouthCarolina            1.403284\n",
       "SanDiego                 1.398166\n",
       "Southeast                1.398018\n",
       "California               1.395325\n",
       "LasVegas                 1.380917\n",
       "Pittsburgh               1.364320\n",
       "Boise                    1.348136\n",
       "GreatLakes               1.338550\n",
       "Atlanta                  1.337959\n",
       "TotalUS                  1.319024\n",
       "Portland                 1.317722\n",
       "Indianapolis             1.313994\n",
       "NewOrleansMobile         1.304793\n",
       "RichmondNorfolk          1.291331\n",
       "Louisville               1.286686\n",
       "Detroit                  1.276095\n",
       "West                     1.272219\n",
       "WestTexNewMexico         1.261701\n",
       "Columbus                 1.252781\n",
       "Roanoke                  1.247929\n",
       "PhoenixTucson            1.224438\n",
       "Denver                   1.218580\n",
       "LosAngeles               1.216006\n",
       "Nashville                1.212101\n",
       "CincinnatiDayton         1.209201\n",
       "SouthCentral             1.101243\n",
       "DallasFtWorth            1.085592\n",
       "Houston                  1.047929"
      ]
     },
     "execution_count": 11,
     "metadata": {},
     "output_type": "execute_result"
    }
   ],
   "source": [
    "E = df[['region','AveragePrice']]\n",
    "F = E.groupby(by='region').mean().sort_values(by='AveragePrice',ascending=False)\n",
    "F"
   ]
  },
  {
   "cell_type": "code",
   "execution_count": 12,
   "metadata": {},
   "outputs": [
    {
     "data": {
      "text/plain": [
       "Text(0.5, 0, 'Average Price in $')"
      ]
     },
     "execution_count": 12,
     "metadata": {},
     "output_type": "execute_result"
    },
    {
     "data": {
      "image/png": "[encoded data removed]",
      "text/plain": [
       "<Figure size 432x864 with 1 Axes>"
      ]
     },
     "metadata": {
      "needs_background": "light"
     },
     "output_type": "display_data"
    }
   ],
   "source": [
    "plt.figure(figsize=(6,12))\n",
    "sns.barplot(y=F.index, x=F['AveragePrice'])\n",
    "plt.xlabel('Average Price in $')"
   ]
  },
  {
   "cell_type": "markdown",
   "metadata": {},
   "source": [
    "- Average Price varied at each region! "
   ]
  },
  {
   "cell_type": "code",
   "execution_count": 13,
   "metadata": {},
   "outputs": [
    {
     "data": {
      "text/html": [
       "<div>\n",
       "<style scoped>\n",
       "    .dataframe tbody tr th:only-of-type {\n",
       "        vertical-align: middle;\n",
       "    }\n",
       "\n",
       "    .dataframe tbody tr th {\n",
       "        vertical-align: top;\n",
       "    }\n",
       "\n",
       "    .dataframe thead th {\n",
       "        text-align: right;\n",
       "    }\n",
       "</style>\n",
       "<table border=\"1\" class=\"dataframe\">\n",
       "  <thead>\n",
       "    <tr style=\"text-align: right;\">\n",
       "      <th></th>\n",
       "      <th>Unnamed: 0</th>\n",
       "      <th>AveragePrice</th>\n",
       "      <th>Total Volume</th>\n",
       "      <th>4046</th>\n",
       "      <th>4225</th>\n",
       "      <th>4770</th>\n",
       "      <th>Total Bags</th>\n",
       "      <th>Small Bags</th>\n",
       "      <th>Large Bags</th>\n",
       "      <th>XLarge Bags</th>\n",
       "      <th>year</th>\n",
       "    </tr>\n",
       "  </thead>\n",
       "  <tbody>\n",
       "    <tr>\n",
       "      <th>Unnamed: 0</th>\n",
       "      <td>1.000000</td>\n",
       "      <td>-0.133008</td>\n",
       "      <td>0.014035</td>\n",
       "      <td>0.017628</td>\n",
       "      <td>0.019829</td>\n",
       "      <td>0.041752</td>\n",
       "      <td>-0.002219</td>\n",
       "      <td>0.000347</td>\n",
       "      <td>-0.009196</td>\n",
       "      <td>-0.011546</td>\n",
       "      <td>-0.171667</td>\n",
       "    </tr>\n",
       "    <tr>\n",
       "      <th>AveragePrice</th>\n",
       "      <td>-0.133008</td>\n",
       "      <td>1.000000</td>\n",
       "      <td>-0.192752</td>\n",
       "      <td>-0.208317</td>\n",
       "      <td>-0.172928</td>\n",
       "      <td>-0.179446</td>\n",
       "      <td>-0.177088</td>\n",
       "      <td>-0.174730</td>\n",
       "      <td>-0.172940</td>\n",
       "      <td>-0.117592</td>\n",
       "      <td>0.093197</td>\n",
       "    </tr>\n",
       "    <tr>\n",
       "      <th>Total Volume</th>\n",
       "      <td>0.014035</td>\n",
       "      <td>-0.192752</td>\n",
       "      <td>1.000000</td>\n",
       "      <td>0.977863</td>\n",
       "      <td>0.974181</td>\n",
       "      <td>0.872202</td>\n",
       "      <td>0.963047</td>\n",
       "      <td>0.967238</td>\n",
       "      <td>0.880640</td>\n",
       "      <td>0.747157</td>\n",
       "      <td>0.017193</td>\n",
       "    </tr>\n",
       "    <tr>\n",
       "      <th>4046</th>\n",
       "      <td>0.017628</td>\n",
       "      <td>-0.208317</td>\n",
       "      <td>0.977863</td>\n",
       "      <td>1.000000</td>\n",
       "      <td>0.926110</td>\n",
       "      <td>0.833389</td>\n",
       "      <td>0.920057</td>\n",
       "      <td>0.925280</td>\n",
       "      <td>0.838645</td>\n",
       "      <td>0.699377</td>\n",
       "      <td>0.003353</td>\n",
       "    </tr>\n",
       "    <tr>\n",
       "      <th>4225</th>\n",
       "      <td>0.019829</td>\n",
       "      <td>-0.172928</td>\n",
       "      <td>0.974181</td>\n",
       "      <td>0.926110</td>\n",
       "      <td>1.000000</td>\n",
       "      <td>0.887855</td>\n",
       "      <td>0.905787</td>\n",
       "      <td>0.916031</td>\n",
       "      <td>0.810015</td>\n",
       "      <td>0.688809</td>\n",
       "      <td>-0.009559</td>\n",
       "    </tr>\n",
       "    <tr>\n",
       "      <th>4770</th>\n",
       "      <td>0.041752</td>\n",
       "      <td>-0.179446</td>\n",
       "      <td>0.872202</td>\n",
       "      <td>0.833389</td>\n",
       "      <td>0.887855</td>\n",
       "      <td>1.000000</td>\n",
       "      <td>0.792314</td>\n",
       "      <td>0.802733</td>\n",
       "      <td>0.698471</td>\n",
       "      <td>0.679861</td>\n",
       "      <td>-0.036531</td>\n",
       "    </tr>\n",
       "    <tr>\n",
       "      <th>Total Bags</th>\n",
       "      <td>-0.002219</td>\n",
       "      <td>-0.177088</td>\n",
       "      <td>0.963047</td>\n",
       "      <td>0.920057</td>\n",
       "      <td>0.905787</td>\n",
       "      <td>0.792314</td>\n",
       "      <td>1.000000</td>\n",
       "      <td>0.994335</td>\n",
       "      <td>0.943009</td>\n",
       "      <td>0.804233</td>\n",
       "      <td>0.071552</td>\n",
       "    </tr>\n",
       "    <tr>\n",
       "      <th>Small Bags</th>\n",
       "      <td>0.000347</td>\n",
       "      <td>-0.174730</td>\n",
       "      <td>0.967238</td>\n",
       "      <td>0.925280</td>\n",
       "      <td>0.916031</td>\n",
       "      <td>0.802733</td>\n",
       "      <td>0.994335</td>\n",
       "      <td>1.000000</td>\n",
       "      <td>0.902589</td>\n",
       "      <td>0.806845</td>\n",
       "      <td>0.063915</td>\n",
       "    </tr>\n",
       "    <tr>\n",
       "      <th>Large Bags</th>\n",
       "      <td>-0.009196</td>\n",
       "      <td>-0.172940</td>\n",
       "      <td>0.880640</td>\n",
       "      <td>0.838645</td>\n",
       "      <td>0.810015</td>\n",
       "      <td>0.698471</td>\n",
       "      <td>0.943009</td>\n",
       "      <td>0.902589</td>\n",
       "      <td>1.000000</td>\n",
       "      <td>0.710858</td>\n",
       "      <td>0.087891</td>\n",
       "    </tr>\n",
       "    <tr>\n",
       "      <th>XLarge Bags</th>\n",
       "      <td>-0.011546</td>\n",
       "      <td>-0.117592</td>\n",
       "      <td>0.747157</td>\n",
       "      <td>0.699377</td>\n",
       "      <td>0.688809</td>\n",
       "      <td>0.679861</td>\n",
       "      <td>0.804233</td>\n",
       "      <td>0.806845</td>\n",
       "      <td>0.710858</td>\n",
       "      <td>1.000000</td>\n",
       "      <td>0.081033</td>\n",
       "    </tr>\n",
       "    <tr>\n",
       "      <th>year</th>\n",
       "      <td>-0.171667</td>\n",
       "      <td>0.093197</td>\n",
       "      <td>0.017193</td>\n",
       "      <td>0.003353</td>\n",
       "      <td>-0.009559</td>\n",
       "      <td>-0.036531</td>\n",
       "      <td>0.071552</td>\n",
       "      <td>0.063915</td>\n",
       "      <td>0.087891</td>\n",
       "      <td>0.081033</td>\n",
       "      <td>1.000000</td>\n",
       "    </tr>\n",
       "  </tbody>\n",
       "</table>\n",
       "</div>"
      ],
      "text/plain": [
       "              Unnamed: 0  AveragePrice  Total Volume      4046      4225  \\\n",
       "Unnamed: 0      1.000000     -0.133008      0.014035  0.017628  0.019829   \n",
       "AveragePrice   -0.133008      1.000000     -0.192752 -0.208317 -0.172928   \n",
       "Total Volume    0.014035     -0.192752      1.000000  0.977863  0.974181   \n",
       "4046            0.017628     -0.208317      0.977863  1.000000  0.926110   \n",
       "4225            0.019829     -0.172928      0.974181  0.926110  1.000000   \n",
       "4770            0.041752     -0.179446      0.872202  0.833389  0.887855   \n",
       "Total Bags     -0.002219     -0.177088      0.963047  0.920057  0.905787   \n",
       "Small Bags      0.000347     -0.174730      0.967238  0.925280  0.916031   \n",
       "Large Bags     -0.009196     -0.172940      0.880640  0.838645  0.810015   \n",
       "XLarge Bags    -0.011546     -0.117592      0.747157  0.699377  0.688809   \n",
       "year           -0.171667      0.093197      0.017193  0.003353 -0.009559   \n",
       "\n",
       "                  4770  Total Bags  Small Bags  Large Bags  XLarge Bags  \\\n",
       "Unnamed: 0    0.041752   -0.002219    0.000347   -0.009196    -0.011546   \n",
       "AveragePrice -0.179446   -0.177088   -0.174730   -0.172940    -0.117592   \n",
       "Total Volume  0.872202    0.963047    0.967238    0.880640     0.747157   \n",
       "4046          0.833389    0.920057    0.925280    0.838645     0.699377   \n",
       "4225          0.887855    0.905787    0.916031    0.810015     0.688809   \n",
       "4770          1.000000    0.792314    0.802733    0.698471     0.679861   \n",
       "Total Bags    0.792314    1.000000    0.994335    0.943009     0.804233   \n",
       "Small Bags    0.802733    0.994335    1.000000    0.902589     0.806845   \n",
       "Large Bags    0.698471    0.943009    0.902589    1.000000     0.710858   \n",
       "XLarge Bags   0.679861    0.804233    0.806845    0.710858     1.000000   \n",
       "year         -0.036531    0.071552    0.063915    0.087891     0.081033   \n",
       "\n",
       "                  year  \n",
       "Unnamed: 0   -0.171667  \n",
       "AveragePrice  0.093197  \n",
       "Total Volume  0.017193  \n",
       "4046          0.003353  \n",
       "4225         -0.009559  \n",
       "4770         -0.036531  \n",
       "Total Bags    0.071552  \n",
       "Small Bags    0.063915  \n",
       "Large Bags    0.087891  \n",
       "XLarge Bags   0.081033  \n",
       "year          1.000000  "
      ]
     },
     "execution_count": 13,
     "metadata": {},
     "output_type": "execute_result"
    }
   ],
   "source": [
    "df.corr()"
   ]
  },
  {
   "cell_type": "code",
   "execution_count": 14,
   "metadata": {},
   "outputs": [
    {
     "data": {
      "text/plain": [
       "<AxesSubplot:>"
      ]
     },
     "execution_count": 14,
     "metadata": {},
     "output_type": "execute_result"
    },
    {
     "data": {
      "image/png": "[encoded data removed]",
      "text/plain": [
       "<Figure size 432x288 with 2 Axes>"
      ]
     },
     "metadata": {
      "needs_background": "light"
     },
     "output_type": "display_data"
    }
   ],
   "source": [
    "sns.heatmap(df.corr(),annot=True,cmap='gist_rainbow',vmin=1,vmax=1)"
   ]
  },
  {
   "cell_type": "markdown",
   "metadata": {},
   "source": [
    "- We can observe multicolleaniarity between Total Volume, 4046, 4225, 4770, Total Bags, Small Bags, Large Bags and XLarge Bags\n",
    "- So we are going drop all columns except Total Volume before we proceed further\n",
    "- Also Unnamed:0 column also containing the ID nos of observations which also can be dropped"
   ]
  },
  {
   "cell_type": "code",
   "execution_count": 15,
   "metadata": {},
   "outputs": [
    {
     "data": {
      "text/html": [
       "<div>\n",
       "<style scoped>\n",
       "    .dataframe tbody tr th:only-of-type {\n",
       "        vertical-align: middle;\n",
       "    }\n",
       "\n",
       "    .dataframe tbody tr th {\n",
       "        vertical-align: top;\n",
       "    }\n",
       "\n",
       "    .dataframe thead th {\n",
       "        text-align: right;\n",
       "    }\n",
       "</style>\n",
       "<table border=\"1\" class=\"dataframe\">\n",
       "  <thead>\n",
       "    <tr style=\"text-align: right;\">\n",
       "      <th></th>\n",
       "      <th>AveragePrice</th>\n",
       "      <th>Total Volume</th>\n",
       "      <th>type</th>\n",
       "      <th>year</th>\n",
       "      <th>region</th>\n",
       "    </tr>\n",
       "  </thead>\n",
       "  <tbody>\n",
       "    <tr>\n",
       "      <th>0</th>\n",
       "      <td>1.33</td>\n",
       "      <td>64236.62</td>\n",
       "      <td>conventional</td>\n",
       "      <td>2015</td>\n",
       "      <td>Albany</td>\n",
       "    </tr>\n",
       "    <tr>\n",
       "      <th>1</th>\n",
       "      <td>1.35</td>\n",
       "      <td>54876.98</td>\n",
       "      <td>conventional</td>\n",
       "      <td>2015</td>\n",
       "      <td>Albany</td>\n",
       "    </tr>\n",
       "    <tr>\n",
       "      <th>2</th>\n",
       "      <td>0.93</td>\n",
       "      <td>118220.22</td>\n",
       "      <td>conventional</td>\n",
       "      <td>2015</td>\n",
       "      <td>Albany</td>\n",
       "    </tr>\n",
       "    <tr>\n",
       "      <th>3</th>\n",
       "      <td>1.08</td>\n",
       "      <td>78992.15</td>\n",
       "      <td>conventional</td>\n",
       "      <td>2015</td>\n",
       "      <td>Albany</td>\n",
       "    </tr>\n",
       "    <tr>\n",
       "      <th>4</th>\n",
       "      <td>1.28</td>\n",
       "      <td>51039.60</td>\n",
       "      <td>conventional</td>\n",
       "      <td>2015</td>\n",
       "      <td>Albany</td>\n",
       "    </tr>\n",
       "  </tbody>\n",
       "</table>\n",
       "</div>"
      ],
      "text/plain": [
       "   AveragePrice  Total Volume          type  year  region\n",
       "0          1.33      64236.62  conventional  2015  Albany\n",
       "1          1.35      54876.98  conventional  2015  Albany\n",
       "2          0.93     118220.22  conventional  2015  Albany\n",
       "3          1.08      78992.15  conventional  2015  Albany\n",
       "4          1.28      51039.60  conventional  2015  Albany"
      ]
     },
     "execution_count": 15,
     "metadata": {},
     "output_type": "execute_result"
    }
   ],
   "source": [
    "data = df.drop(columns = ['Unnamed: 0','Date','4046','4225','4770','Total Bags','Small Bags','Large Bags','XLarge Bags'])\n",
    "data.head()"
   ]
  },
  {
   "cell_type": "code",
   "execution_count": 16,
   "metadata": {},
   "outputs": [
    {
     "name": "stdout",
     "output_type": "stream",
     "text": [
      "<class 'pandas.core.frame.DataFrame'>\n",
      "RangeIndex: 18249 entries, 0 to 18248\n",
      "Data columns (total 5 columns):\n",
      " #   Column        Non-Null Count  Dtype  \n",
      "---  ------        --------------  -----  \n",
      " 0   AveragePrice  18249 non-null  float64\n",
      " 1   Total Volume  18249 non-null  float64\n",
      " 2   type          18249 non-null  object \n",
      " 3   year          18249 non-null  int64  \n",
      " 4   region        18249 non-null  object \n",
      "dtypes: float64(2), int64(1), object(2)\n",
      "memory usage: 713.0+ KB\n"
     ]
    }
   ],
   "source": [
    "data.info()"
   ]
  },
  {
   "cell_type": "code",
   "execution_count": 17,
   "metadata": {},
   "outputs": [
    {
     "data": {
      "text/html": [
       "<div>\n",
       "<style scoped>\n",
       "    .dataframe tbody tr th:only-of-type {\n",
       "        vertical-align: middle;\n",
       "    }\n",
       "\n",
       "    .dataframe tbody tr th {\n",
       "        vertical-align: top;\n",
       "    }\n",
       "\n",
       "    .dataframe thead th {\n",
       "        text-align: right;\n",
       "    }\n",
       "</style>\n",
       "<table border=\"1\" class=\"dataframe\">\n",
       "  <thead>\n",
       "    <tr style=\"text-align: right;\">\n",
       "      <th></th>\n",
       "      <th>AveragePrice</th>\n",
       "      <th>Total Volume</th>\n",
       "      <th>year</th>\n",
       "    </tr>\n",
       "  </thead>\n",
       "  <tbody>\n",
       "    <tr>\n",
       "      <th>AveragePrice</th>\n",
       "      <td>1.000000</td>\n",
       "      <td>-0.192752</td>\n",
       "      <td>0.093197</td>\n",
       "    </tr>\n",
       "    <tr>\n",
       "      <th>Total Volume</th>\n",
       "      <td>-0.192752</td>\n",
       "      <td>1.000000</td>\n",
       "      <td>0.017193</td>\n",
       "    </tr>\n",
       "    <tr>\n",
       "      <th>year</th>\n",
       "      <td>0.093197</td>\n",
       "      <td>0.017193</td>\n",
       "      <td>1.000000</td>\n",
       "    </tr>\n",
       "  </tbody>\n",
       "</table>\n",
       "</div>"
      ],
      "text/plain": [
       "              AveragePrice  Total Volume      year\n",
       "AveragePrice      1.000000     -0.192752  0.093197\n",
       "Total Volume     -0.192752      1.000000  0.017193\n",
       "year              0.093197      0.017193  1.000000"
      ]
     },
     "execution_count": 17,
     "metadata": {},
     "output_type": "execute_result"
    }
   ],
   "source": [
    "data.corr()"
   ]
  },
  {
   "cell_type": "code",
   "execution_count": 18,
   "metadata": {},
   "outputs": [
    {
     "data": {
      "text/plain": [
       "<AxesSubplot:>"
      ]
     },
     "execution_count": 18,
     "metadata": {},
     "output_type": "execute_result"
    },
    {
     "data": {
      "image/png": "[encoded data removed]",
      "text/plain": [
       "<Figure size 432x288 with 2 Axes>"
      ]
     },
     "metadata": {
      "needs_background": "light"
     },
     "output_type": "display_data"
    }
   ],
   "source": [
    "sns.heatmap(data.corr(),annot=True,cmap='Greens')"
   ]
  },
  {
   "cell_type": "markdown",
   "metadata": {},
   "source": [
    "- Now we can find no coleaniarity between colomns of dataset"
   ]
  },
  {
   "cell_type": "code",
   "execution_count": 19,
   "metadata": {},
   "outputs": [],
   "source": [
    "numericalfeatures = ['AveragePrice','Total Volume','year']\n",
    "categoricalfeatures = ['type','region']"
   ]
  },
  {
   "cell_type": "code",
   "execution_count": 20,
   "metadata": {},
   "outputs": [
    {
     "data": {
      "text/html": [
       "<div>\n",
       "<style scoped>\n",
       "    .dataframe tbody tr th:only-of-type {\n",
       "        vertical-align: middle;\n",
       "    }\n",
       "\n",
       "    .dataframe tbody tr th {\n",
       "        vertical-align: top;\n",
       "    }\n",
       "\n",
       "    .dataframe thead th {\n",
       "        text-align: right;\n",
       "    }\n",
       "</style>\n",
       "<table border=\"1\" class=\"dataframe\">\n",
       "  <thead>\n",
       "    <tr style=\"text-align: right;\">\n",
       "      <th></th>\n",
       "      <th>AveragePrice</th>\n",
       "      <th>Total Volume</th>\n",
       "      <th>type</th>\n",
       "      <th>year</th>\n",
       "      <th>region</th>\n",
       "    </tr>\n",
       "  </thead>\n",
       "  <tbody>\n",
       "    <tr>\n",
       "      <th>0</th>\n",
       "      <td>-0.188689</td>\n",
       "      <td>-0.227716</td>\n",
       "      <td>conventional</td>\n",
       "      <td>-1.221282</td>\n",
       "      <td>Albany</td>\n",
       "    </tr>\n",
       "    <tr>\n",
       "      <th>1</th>\n",
       "      <td>-0.139020</td>\n",
       "      <td>-0.230427</td>\n",
       "      <td>conventional</td>\n",
       "      <td>-1.221282</td>\n",
       "      <td>Albany</td>\n",
       "    </tr>\n",
       "    <tr>\n",
       "      <th>2</th>\n",
       "      <td>-1.182069</td>\n",
       "      <td>-0.212085</td>\n",
       "      <td>conventional</td>\n",
       "      <td>-1.221282</td>\n",
       "      <td>Albany</td>\n",
       "    </tr>\n",
       "    <tr>\n",
       "      <th>3</th>\n",
       "      <td>-0.809551</td>\n",
       "      <td>-0.223444</td>\n",
       "      <td>conventional</td>\n",
       "      <td>-1.221282</td>\n",
       "      <td>Albany</td>\n",
       "    </tr>\n",
       "    <tr>\n",
       "      <th>4</th>\n",
       "      <td>-0.312861</td>\n",
       "      <td>-0.231538</td>\n",
       "      <td>conventional</td>\n",
       "      <td>-1.221282</td>\n",
       "      <td>Albany</td>\n",
       "    </tr>\n",
       "  </tbody>\n",
       "</table>\n",
       "</div>"
      ],
      "text/plain": [
       "   AveragePrice  Total Volume          type      year  region\n",
       "0     -0.188689     -0.227716  conventional -1.221282  Albany\n",
       "1     -0.139020     -0.230427  conventional -1.221282  Albany\n",
       "2     -1.182069     -0.212085  conventional -1.221282  Albany\n",
       "3     -0.809551     -0.223444  conventional -1.221282  Albany\n",
       "4     -0.312861     -0.231538  conventional -1.221282  Albany"
      ]
     },
     "execution_count": 20,
     "metadata": {},
     "output_type": "execute_result"
    }
   ],
   "source": [
    "from sklearn.preprocessing import StandardScaler\n",
    "ss = StandardScaler()\n",
    "ss.fit(data[numericalfeatures])\n",
    "data[numericalfeatures] = ss.transform(data[numericalfeatures])\n",
    "data.head()"
   ]
  },
  {
   "cell_type": "code",
   "execution_count": 21,
   "metadata": {},
   "outputs": [
    {
     "data": {
      "text/html": [
       "<div>\n",
       "<style scoped>\n",
       "    .dataframe tbody tr th:only-of-type {\n",
       "        vertical-align: middle;\n",
       "    }\n",
       "\n",
       "    .dataframe tbody tr th {\n",
       "        vertical-align: top;\n",
       "    }\n",
       "\n",
       "    .dataframe thead th {\n",
       "        text-align: right;\n",
       "    }\n",
       "</style>\n",
       "<table border=\"1\" class=\"dataframe\">\n",
       "  <thead>\n",
       "    <tr style=\"text-align: right;\">\n",
       "      <th></th>\n",
       "      <th>AveragePrice</th>\n",
       "      <th>Total Volume</th>\n",
       "      <th>year</th>\n",
       "      <th>type_conventional</th>\n",
       "      <th>type_organic</th>\n",
       "      <th>region_Albany</th>\n",
       "      <th>region_Atlanta</th>\n",
       "      <th>region_BaltimoreWashington</th>\n",
       "      <th>region_Boise</th>\n",
       "      <th>region_Boston</th>\n",
       "      <th>...</th>\n",
       "      <th>region_SouthCarolina</th>\n",
       "      <th>region_SouthCentral</th>\n",
       "      <th>region_Southeast</th>\n",
       "      <th>region_Spokane</th>\n",
       "      <th>region_StLouis</th>\n",
       "      <th>region_Syracuse</th>\n",
       "      <th>region_Tampa</th>\n",
       "      <th>region_TotalUS</th>\n",
       "      <th>region_West</th>\n",
       "      <th>region_WestTexNewMexico</th>\n",
       "    </tr>\n",
       "  </thead>\n",
       "  <tbody>\n",
       "    <tr>\n",
       "      <th>0</th>\n",
       "      <td>-0.188689</td>\n",
       "      <td>-0.227716</td>\n",
       "      <td>-1.221282</td>\n",
       "      <td>1</td>\n",
       "      <td>0</td>\n",
       "      <td>1</td>\n",
       "      <td>0</td>\n",
       "      <td>0</td>\n",
       "      <td>0</td>\n",
       "      <td>0</td>\n",
       "      <td>...</td>\n",
       "      <td>0</td>\n",
       "      <td>0</td>\n",
       "      <td>0</td>\n",
       "      <td>0</td>\n",
       "      <td>0</td>\n",
       "      <td>0</td>\n",
       "      <td>0</td>\n",
       "      <td>0</td>\n",
       "      <td>0</td>\n",
       "      <td>0</td>\n",
       "    </tr>\n",
       "    <tr>\n",
       "      <th>1</th>\n",
       "      <td>-0.139020</td>\n",
       "      <td>-0.230427</td>\n",
       "      <td>-1.221282</td>\n",
       "      <td>1</td>\n",
       "      <td>0</td>\n",
       "      <td>1</td>\n",
       "      <td>0</td>\n",
       "      <td>0</td>\n",
       "      <td>0</td>\n",
       "      <td>0</td>\n",
       "      <td>...</td>\n",
       "      <td>0</td>\n",
       "      <td>0</td>\n",
       "      <td>0</td>\n",
       "      <td>0</td>\n",
       "      <td>0</td>\n",
       "      <td>0</td>\n",
       "      <td>0</td>\n",
       "      <td>0</td>\n",
       "      <td>0</td>\n",
       "      <td>0</td>\n",
       "    </tr>\n",
       "    <tr>\n",
       "      <th>2</th>\n",
       "      <td>-1.182069</td>\n",
       "      <td>-0.212085</td>\n",
       "      <td>-1.221282</td>\n",
       "      <td>1</td>\n",
       "      <td>0</td>\n",
       "      <td>1</td>\n",
       "      <td>0</td>\n",
       "      <td>0</td>\n",
       "      <td>0</td>\n",
       "      <td>0</td>\n",
       "      <td>...</td>\n",
       "      <td>0</td>\n",
       "      <td>0</td>\n",
       "      <td>0</td>\n",
       "      <td>0</td>\n",
       "      <td>0</td>\n",
       "      <td>0</td>\n",
       "      <td>0</td>\n",
       "      <td>0</td>\n",
       "      <td>0</td>\n",
       "      <td>0</td>\n",
       "    </tr>\n",
       "    <tr>\n",
       "      <th>3</th>\n",
       "      <td>-0.809551</td>\n",
       "      <td>-0.223444</td>\n",
       "      <td>-1.221282</td>\n",
       "      <td>1</td>\n",
       "      <td>0</td>\n",
       "      <td>1</td>\n",
       "      <td>0</td>\n",
       "      <td>0</td>\n",
       "      <td>0</td>\n",
       "      <td>0</td>\n",
       "      <td>...</td>\n",
       "      <td>0</td>\n",
       "      <td>0</td>\n",
       "      <td>0</td>\n",
       "      <td>0</td>\n",
       "      <td>0</td>\n",
       "      <td>0</td>\n",
       "      <td>0</td>\n",
       "      <td>0</td>\n",
       "      <td>0</td>\n",
       "      <td>0</td>\n",
       "    </tr>\n",
       "    <tr>\n",
       "      <th>4</th>\n",
       "      <td>-0.312861</td>\n",
       "      <td>-0.231538</td>\n",
       "      <td>-1.221282</td>\n",
       "      <td>1</td>\n",
       "      <td>0</td>\n",
       "      <td>1</td>\n",
       "      <td>0</td>\n",
       "      <td>0</td>\n",
       "      <td>0</td>\n",
       "      <td>0</td>\n",
       "      <td>...</td>\n",
       "      <td>0</td>\n",
       "      <td>0</td>\n",
       "      <td>0</td>\n",
       "      <td>0</td>\n",
       "      <td>0</td>\n",
       "      <td>0</td>\n",
       "      <td>0</td>\n",
       "      <td>0</td>\n",
       "      <td>0</td>\n",
       "      <td>0</td>\n",
       "    </tr>\n",
       "  </tbody>\n",
       "</table>\n",
       "<p>5 rows × 59 columns</p>\n",
       "</div>"
      ],
      "text/plain": [
       "   AveragePrice  Total Volume      year  type_conventional  type_organic  \\\n",
       "0     -0.188689     -0.227716 -1.221282                  1             0   \n",
       "1     -0.139020     -0.230427 -1.221282                  1             0   \n",
       "2     -1.182069     -0.212085 -1.221282                  1             0   \n",
       "3     -0.809551     -0.223444 -1.221282                  1             0   \n",
       "4     -0.312861     -0.231538 -1.221282                  1             0   \n",
       "\n",
       "   region_Albany  region_Atlanta  region_BaltimoreWashington  region_Boise  \\\n",
       "0              1               0                           0             0   \n",
       "1              1               0                           0             0   \n",
       "2              1               0                           0             0   \n",
       "3              1               0                           0             0   \n",
       "4              1               0                           0             0   \n",
       "\n",
       "   region_Boston  ...  region_SouthCarolina  region_SouthCentral  \\\n",
       "0              0  ...                     0                    0   \n",
       "1              0  ...                     0                    0   \n",
       "2              0  ...                     0                    0   \n",
       "3              0  ...                     0                    0   \n",
       "4              0  ...                     0                    0   \n",
       "\n",
       "   region_Southeast  region_Spokane  region_StLouis  region_Syracuse  \\\n",
       "0                 0               0               0                0   \n",
       "1                 0               0               0                0   \n",
       "2                 0               0               0                0   \n",
       "3                 0               0               0                0   \n",
       "4                 0               0               0                0   \n",
       "\n",
       "   region_Tampa  region_TotalUS  region_West  region_WestTexNewMexico  \n",
       "0             0               0            0                        0  \n",
       "1             0               0            0                        0  \n",
       "2             0               0            0                        0  \n",
       "3             0               0            0                        0  \n",
       "4             0               0            0                        0  \n",
       "\n",
       "[5 rows x 59 columns]"
      ]
     },
     "execution_count": 21,
     "metadata": {},
     "output_type": "execute_result"
    }
   ],
   "source": [
    "data = pd.get_dummies(data, columns=categoricalfeatures)\n",
    "data.head()"
   ]
  },
  {
   "cell_type": "code",
   "execution_count": 22,
   "metadata": {},
   "outputs": [
    {
     "data": {
      "text/plain": [
       "['AveragePrice',\n",
       " 'Total Volume',\n",
       " 'year',\n",
       " 'type_conventional',\n",
       " 'type_organic',\n",
       " 'region_Albany',\n",
       " 'region_Atlanta',\n",
       " 'region_BaltimoreWashington',\n",
       " 'region_Boise',\n",
       " 'region_Boston',\n",
       " 'region_BuffaloRochester',\n",
       " 'region_California',\n",
       " 'region_Charlotte',\n",
       " 'region_Chicago',\n",
       " 'region_CincinnatiDayton',\n",
       " 'region_Columbus',\n",
       " 'region_DallasFtWorth',\n",
       " 'region_Denver',\n",
       " 'region_Detroit',\n",
       " 'region_GrandRapids',\n",
       " 'region_GreatLakes',\n",
       " 'region_HarrisburgScranton',\n",
       " 'region_HartfordSpringfield',\n",
       " 'region_Houston',\n",
       " 'region_Indianapolis',\n",
       " 'region_Jacksonville',\n",
       " 'region_LasVegas',\n",
       " 'region_LosAngeles',\n",
       " 'region_Louisville',\n",
       " 'region_MiamiFtLauderdale',\n",
       " 'region_Midsouth',\n",
       " 'region_Nashville',\n",
       " 'region_NewOrleansMobile',\n",
       " 'region_NewYork',\n",
       " 'region_Northeast',\n",
       " 'region_NorthernNewEngland',\n",
       " 'region_Orlando',\n",
       " 'region_Philadelphia',\n",
       " 'region_PhoenixTucson',\n",
       " 'region_Pittsburgh',\n",
       " 'region_Plains',\n",
       " 'region_Portland',\n",
       " 'region_RaleighGreensboro',\n",
       " 'region_RichmondNorfolk',\n",
       " 'region_Roanoke',\n",
       " 'region_Sacramento',\n",
       " 'region_SanDiego',\n",
       " 'region_SanFrancisco',\n",
       " 'region_Seattle',\n",
       " 'region_SouthCarolina',\n",
       " 'region_SouthCentral',\n",
       " 'region_Southeast',\n",
       " 'region_Spokane',\n",
       " 'region_StLouis',\n",
       " 'region_Syracuse',\n",
       " 'region_Tampa',\n",
       " 'region_TotalUS',\n",
       " 'region_West',\n",
       " 'region_WestTexNewMexico']"
      ]
     },
     "execution_count": 22,
     "metadata": {},
     "output_type": "execute_result"
    }
   ],
   "source": [
    "columns = list(data.columns)\n",
    "columns"
   ]
  },
  {
   "cell_type": "code",
   "execution_count": 23,
   "metadata": {},
   "outputs": [],
   "source": [
    "xlabes = ['Total Volume',\n",
    " 'year',\n",
    " 'type_conventional',\n",
    " 'type_organic',\n",
    " 'region_Albany',\n",
    " 'region_Atlanta',\n",
    " 'region_BaltimoreWashington',\n",
    " 'region_Boise',\n",
    " 'region_Boston',\n",
    " 'region_BuffaloRochester',\n",
    " 'region_California',\n",
    " 'region_Charlotte',\n",
    " 'region_Chicago',\n",
    " 'region_CincinnatiDayton',\n",
    " 'region_Columbus',\n",
    " 'region_DallasFtWorth',\n",
    " 'region_Denver',\n",
    " 'region_Detroit',\n",
    " 'region_GrandRapids',\n",
    " 'region_GreatLakes',\n",
    " 'region_HarrisburgScranton',\n",
    " 'region_HartfordSpringfield',\n",
    " 'region_Houston',\n",
    " 'region_Indianapolis',\n",
    " 'region_Jacksonville',\n",
    " 'region_LasVegas',\n",
    " 'region_LosAngeles',\n",
    " 'region_Louisville',\n",
    " 'region_MiamiFtLauderdale',\n",
    " 'region_Midsouth',\n",
    " 'region_Nashville',\n",
    " 'region_NewOrleansMobile',\n",
    " 'region_NewYork',\n",
    " 'region_Northeast',\n",
    " 'region_NorthernNewEngland',\n",
    " 'region_Orlando',\n",
    " 'region_Philadelphia',\n",
    " 'region_PhoenixTucson',\n",
    " 'region_Pittsburgh',\n",
    " 'region_Plains',\n",
    " 'region_Portland',\n",
    " 'region_RaleighGreensboro',\n",
    " 'region_RichmondNorfolk',\n",
    " 'region_Roanoke',\n",
    " 'region_Sacramento',\n",
    " 'region_SanDiego',\n",
    " 'region_SanFrancisco',\n",
    " 'region_Seattle',\n",
    " 'region_SouthCarolina',\n",
    " 'region_SouthCentral',\n",
    " 'region_Southeast',\n",
    " 'region_Spokane',\n",
    " 'region_StLouis',\n",
    " 'region_Syracuse',\n",
    " 'region_Tampa',\n",
    " 'region_TotalUS',\n",
    " 'region_West',\n",
    " 'region_WestTexNewMexico']"
   ]
  },
  {
   "cell_type": "code",
   "execution_count": 24,
   "metadata": {},
   "outputs": [
    {
     "data": {
      "text/plain": [
       "58"
      ]
     },
     "execution_count": 24,
     "metadata": {},
     "output_type": "execute_result"
    }
   ],
   "source": [
    "len(xlabes)"
   ]
  },
  {
   "cell_type": "code",
   "execution_count": 25,
   "metadata": {},
   "outputs": [
    {
     "data": {
      "text/html": [
       "<div>\n",
       "<style scoped>\n",
       "    .dataframe tbody tr th:only-of-type {\n",
       "        vertical-align: middle;\n",
       "    }\n",
       "\n",
       "    .dataframe tbody tr th {\n",
       "        vertical-align: top;\n",
       "    }\n",
       "\n",
       "    .dataframe thead th {\n",
       "        text-align: right;\n",
       "    }\n",
       "</style>\n",
       "<table border=\"1\" class=\"dataframe\">\n",
       "  <thead>\n",
       "    <tr style=\"text-align: right;\">\n",
       "      <th></th>\n",
       "      <th>Total Volume</th>\n",
       "      <th>year</th>\n",
       "      <th>type_conventional</th>\n",
       "      <th>type_organic</th>\n",
       "      <th>region_Albany</th>\n",
       "      <th>region_Atlanta</th>\n",
       "      <th>region_BaltimoreWashington</th>\n",
       "      <th>region_Boise</th>\n",
       "      <th>region_Boston</th>\n",
       "      <th>region_BuffaloRochester</th>\n",
       "      <th>...</th>\n",
       "      <th>region_SouthCarolina</th>\n",
       "      <th>region_SouthCentral</th>\n",
       "      <th>region_Southeast</th>\n",
       "      <th>region_Spokane</th>\n",
       "      <th>region_StLouis</th>\n",
       "      <th>region_Syracuse</th>\n",
       "      <th>region_Tampa</th>\n",
       "      <th>region_TotalUS</th>\n",
       "      <th>region_West</th>\n",
       "      <th>region_WestTexNewMexico</th>\n",
       "    </tr>\n",
       "  </thead>\n",
       "  <tbody>\n",
       "    <tr>\n",
       "      <th>0</th>\n",
       "      <td>-0.227716</td>\n",
       "      <td>-1.221282</td>\n",
       "      <td>1</td>\n",
       "      <td>0</td>\n",
       "      <td>1</td>\n",
       "      <td>0</td>\n",
       "      <td>0</td>\n",
       "      <td>0</td>\n",
       "      <td>0</td>\n",
       "      <td>0</td>\n",
       "      <td>...</td>\n",
       "      <td>0</td>\n",
       "      <td>0</td>\n",
       "      <td>0</td>\n",
       "      <td>0</td>\n",
       "      <td>0</td>\n",
       "      <td>0</td>\n",
       "      <td>0</td>\n",
       "      <td>0</td>\n",
       "      <td>0</td>\n",
       "      <td>0</td>\n",
       "    </tr>\n",
       "    <tr>\n",
       "      <th>1</th>\n",
       "      <td>-0.230427</td>\n",
       "      <td>-1.221282</td>\n",
       "      <td>1</td>\n",
       "      <td>0</td>\n",
       "      <td>1</td>\n",
       "      <td>0</td>\n",
       "      <td>0</td>\n",
       "      <td>0</td>\n",
       "      <td>0</td>\n",
       "      <td>0</td>\n",
       "      <td>...</td>\n",
       "      <td>0</td>\n",
       "      <td>0</td>\n",
       "      <td>0</td>\n",
       "      <td>0</td>\n",
       "      <td>0</td>\n",
       "      <td>0</td>\n",
       "      <td>0</td>\n",
       "      <td>0</td>\n",
       "      <td>0</td>\n",
       "      <td>0</td>\n",
       "    </tr>\n",
       "    <tr>\n",
       "      <th>2</th>\n",
       "      <td>-0.212085</td>\n",
       "      <td>-1.221282</td>\n",
       "      <td>1</td>\n",
       "      <td>0</td>\n",
       "      <td>1</td>\n",
       "      <td>0</td>\n",
       "      <td>0</td>\n",
       "      <td>0</td>\n",
       "      <td>0</td>\n",
       "      <td>0</td>\n",
       "      <td>...</td>\n",
       "      <td>0</td>\n",
       "      <td>0</td>\n",
       "      <td>0</td>\n",
       "      <td>0</td>\n",
       "      <td>0</td>\n",
       "      <td>0</td>\n",
       "      <td>0</td>\n",
       "      <td>0</td>\n",
       "      <td>0</td>\n",
       "      <td>0</td>\n",
       "    </tr>\n",
       "    <tr>\n",
       "      <th>3</th>\n",
       "      <td>-0.223444</td>\n",
       "      <td>-1.221282</td>\n",
       "      <td>1</td>\n",
       "      <td>0</td>\n",
       "      <td>1</td>\n",
       "      <td>0</td>\n",
       "      <td>0</td>\n",
       "      <td>0</td>\n",
       "      <td>0</td>\n",
       "      <td>0</td>\n",
       "      <td>...</td>\n",
       "      <td>0</td>\n",
       "      <td>0</td>\n",
       "      <td>0</td>\n",
       "      <td>0</td>\n",
       "      <td>0</td>\n",
       "      <td>0</td>\n",
       "      <td>0</td>\n",
       "      <td>0</td>\n",
       "      <td>0</td>\n",
       "      <td>0</td>\n",
       "    </tr>\n",
       "    <tr>\n",
       "      <th>4</th>\n",
       "      <td>-0.231538</td>\n",
       "      <td>-1.221282</td>\n",
       "      <td>1</td>\n",
       "      <td>0</td>\n",
       "      <td>1</td>\n",
       "      <td>0</td>\n",
       "      <td>0</td>\n",
       "      <td>0</td>\n",
       "      <td>0</td>\n",
       "      <td>0</td>\n",
       "      <td>...</td>\n",
       "      <td>0</td>\n",
       "      <td>0</td>\n",
       "      <td>0</td>\n",
       "      <td>0</td>\n",
       "      <td>0</td>\n",
       "      <td>0</td>\n",
       "      <td>0</td>\n",
       "      <td>0</td>\n",
       "      <td>0</td>\n",
       "      <td>0</td>\n",
       "    </tr>\n",
       "  </tbody>\n",
       "</table>\n",
       "<p>5 rows × 58 columns</p>\n",
       "</div>"
      ],
      "text/plain": [
       "   Total Volume      year  type_conventional  type_organic  region_Albany  \\\n",
       "0     -0.227716 -1.221282                  1             0              1   \n",
       "1     -0.230427 -1.221282                  1             0              1   \n",
       "2     -0.212085 -1.221282                  1             0              1   \n",
       "3     -0.223444 -1.221282                  1             0              1   \n",
       "4     -0.231538 -1.221282                  1             0              1   \n",
       "\n",
       "   region_Atlanta  region_BaltimoreWashington  region_Boise  region_Boston  \\\n",
       "0               0                           0             0              0   \n",
       "1               0                           0             0              0   \n",
       "2               0                           0             0              0   \n",
       "3               0                           0             0              0   \n",
       "4               0                           0             0              0   \n",
       "\n",
       "   region_BuffaloRochester  ...  region_SouthCarolina  region_SouthCentral  \\\n",
       "0                        0  ...                     0                    0   \n",
       "1                        0  ...                     0                    0   \n",
       "2                        0  ...                     0                    0   \n",
       "3                        0  ...                     0                    0   \n",
       "4                        0  ...                     0                    0   \n",
       "\n",
       "   region_Southeast  region_Spokane  region_StLouis  region_Syracuse  \\\n",
       "0                 0               0               0                0   \n",
       "1                 0               0               0                0   \n",
       "2                 0               0               0                0   \n",
       "3                 0               0               0                0   \n",
       "4                 0               0               0                0   \n",
       "\n",
       "   region_Tampa  region_TotalUS  region_West  region_WestTexNewMexico  \n",
       "0             0               0            0                        0  \n",
       "1             0               0            0                        0  \n",
       "2             0               0            0                        0  \n",
       "3             0               0            0                        0  \n",
       "4             0               0            0                        0  \n",
       "\n",
       "[5 rows x 58 columns]"
      ]
     },
     "execution_count": 25,
     "metadata": {},
     "output_type": "execute_result"
    }
   ],
   "source": [
    "X=data[xlabes]\n",
    "X.head()"
   ]
  },
  {
   "cell_type": "code",
   "execution_count": 26,
   "metadata": {},
   "outputs": [
    {
     "data": {
      "text/plain": [
       "0   -0.188689\n",
       "1   -0.139020\n",
       "2   -1.182069\n",
       "3   -0.809551\n",
       "4   -0.312861\n",
       "Name: AveragePrice, dtype: float64"
      ]
     },
     "execution_count": 26,
     "metadata": {},
     "output_type": "execute_result"
    }
   ],
   "source": [
    "y=data['AveragePrice']\n",
    "y.head()"
   ]
  },
  {
   "cell_type": "code",
   "execution_count": 27,
   "metadata": {},
   "outputs": [],
   "source": [
    "from sklearn.model_selection import train_test_split\n",
    "def split(X,y):\n",
    "    return train_test_split(X,y,test_size=.2,random_state=1)\n",
    "X_train, X_test, y_train, y_test = split(X,y)"
   ]
  },
  {
   "cell_type": "code",
   "execution_count": 28,
   "metadata": {},
   "outputs": [
    {
     "name": "stdout",
     "output_type": "stream",
     "text": [
      "Shape of X_train is :  (14599, 58)\n",
      "Shape of y_train is :  (14599,)\n"
     ]
    }
   ],
   "source": [
    "print('Shape of X_train is : ',X_train.shape)\n",
    "print('Shape of y_train is : ',y_train.shape)"
   ]
  },
  {
   "cell_type": "code",
   "execution_count": 29,
   "metadata": {},
   "outputs": [
    {
     "name": "stdout",
     "output_type": "stream",
     "text": [
      "Shape of X_test is :  (3650, 58)\n",
      "Shape of y_test is :  (3650,)\n"
     ]
    }
   ],
   "source": [
    "print('Shape of X_test is : ',X_test.shape)\n",
    "print('Shape of y_test is : ',y_test.shape)"
   ]
  },
  {
   "cell_type": "markdown",
   "metadata": {},
   "source": [
    "6.**Linear Regression**"
   ]
  },
  {
   "cell_type": "code",
   "execution_count": 30,
   "metadata": {},
   "outputs": [
    {
     "name": "stdout",
     "output_type": "stream",
     "text": [
      "LinearRegression()\n"
     ]
    }
   ],
   "source": [
    "from sklearn.linear_model import LinearRegression\n",
    "lr = LinearRegression()\n",
    "model = lr.fit(X_train,y_train)\n",
    "print(model)"
   ]
  },
  {
   "cell_type": "code",
   "execution_count": 31,
   "metadata": {},
   "outputs": [],
   "source": [
    "predlables_ytest_lg = model.predict(X_test)\n",
    "predlables_ytrain_lg = model.predict(X_train)"
   ]
  },
  {
   "cell_type": "code",
   "execution_count": 32,
   "metadata": {},
   "outputs": [
    {
     "name": "stdout",
     "output_type": "stream",
     "text": [
      "RMSE for LR train data is : 0.6681169717381915\n"
     ]
    }
   ],
   "source": [
    "from sklearn import metrics\n",
    "import numpy as np\n",
    "RMSE_lg_train = np.sqrt(metrics.mean_squared_error(y_train,predlables_ytrain_lg))\n",
    "print('RMSE for LR train data is :',RMSE_lg_train)"
   ]
  },
  {
   "cell_type": "code",
   "execution_count": 33,
   "metadata": {},
   "outputs": [
    {
     "name": "stdout",
     "output_type": "stream",
     "text": [
      "RMSE for LR test data is : 0.6591661615881169\n"
     ]
    }
   ],
   "source": [
    "RMSE_lg_test = np.sqrt(metrics.mean_squared_error(y_test,predlables_ytest_lg))\n",
    "print('RMSE for LR test data is :',RMSE_lg_test)"
   ]
  },
  {
   "cell_type": "code",
   "execution_count": 34,
   "metadata": {},
   "outputs": [
    {
     "name": "stdout",
     "output_type": "stream",
     "text": [
      "R-Square Error for LR train data is : 0.5534227470603612\n"
     ]
    }
   ],
   "source": [
    "from sklearn.metrics import r2_score\n",
    "R2_lg_train = r2_score(y_train,predlables_ytrain_lg)\n",
    "print('R-Square Error for LR train data is :',R2_lg_train)"
   ]
  },
  {
   "cell_type": "code",
   "execution_count": 35,
   "metadata": {},
   "outputs": [
    {
     "name": "stdout",
     "output_type": "stream",
     "text": [
      "R-Square Error for LR test data is : 0.56626117570013\n"
     ]
    }
   ],
   "source": [
    "R2_lg_test = r2_score(y_test,predlables_ytest_lg)\n",
    "print('R-Square Error for LR test data is :',R2_lg_test)"
   ]
  },
  {
   "cell_type": "code",
   "execution_count": 36,
   "metadata": {},
   "outputs": [],
   "source": [
    "def Adjusted_r2(r_square,N):\n",
    "    return(1-(((1-r_square)*(N-1))/(N-58-1)))"
   ]
  },
  {
   "cell_type": "code",
   "execution_count": 37,
   "metadata": {},
   "outputs": [
    {
     "name": "stdout",
     "output_type": "stream",
     "text": [
      "The Adjusted R-square Error for LR train data is : 0.5516413522412073\n"
     ]
    }
   ],
   "source": [
    "adj_r2_lg_train = Adjusted_r2(R2_lg_train,len(X_train))\n",
    "print('The Adjusted R-square Error for LR train data is :',adj_r2_lg_train)"
   ]
  },
  {
   "cell_type": "code",
   "execution_count": 38,
   "metadata": {},
   "outputs": [
    {
     "name": "stdout",
     "output_type": "stream",
     "text": [
      "The Adjusted R-square Error for LR test data is : 0.5592556474881021\n"
     ]
    }
   ],
   "source": [
    "adj_r2_lg_test = Adjusted_r2(R2_lg_test,len(X_test))\n",
    "print('The Adjusted R-square Error for LR test data is :',adj_r2_lg_test)"
   ]
  },
  {
   "cell_type": "markdown",
   "metadata": {},
   "source": [
    "7.**Decision Tree**"
   ]
  },
  {
   "cell_type": "code",
   "execution_count": 39,
   "metadata": {},
   "outputs": [
    {
     "name": "stdout",
     "output_type": "stream",
     "text": [
      "DecisionTreeRegressor()\n"
     ]
    }
   ],
   "source": [
    "from sklearn.tree import DecisionTreeRegressor\n",
    "model1 = DecisionTreeRegressor()\n",
    "model1.fit(X_train,y_train)\n",
    "print(model1)"
   ]
  },
  {
   "cell_type": "code",
   "execution_count": 40,
   "metadata": {},
   "outputs": [],
   "source": [
    "predlables_ytest_dt = model1.predict(X_test)\n",
    "predlables_ytrain_dt = model1.predict(X_train)"
   ]
  },
  {
   "cell_type": "code",
   "execution_count": 41,
   "metadata": {},
   "outputs": [
    {
     "name": "stdout",
     "output_type": "stream",
     "text": [
      "RMSE for DT train data is : 0.014614234021850584\n"
     ]
    }
   ],
   "source": [
    "RMSE_dt_train = np.sqrt(metrics.mean_squared_error(y_train,predlables_ytrain_dt))\n",
    "print('RMSE for DT train data is :',RMSE_dt_train)"
   ]
  },
  {
   "cell_type": "code",
   "execution_count": 42,
   "metadata": {},
   "outputs": [
    {
     "name": "stdout",
     "output_type": "stream",
     "text": [
      "RMSE for DT test data is : 0.5839738524670635\n"
     ]
    }
   ],
   "source": [
    "RMSE_dt_test = np.sqrt(metrics.mean_squared_error(y_test,predlables_ytest_dt))\n",
    "print('RMSE for DT test data is :',RMSE_dt_test)"
   ]
  },
  {
   "cell_type": "code",
   "execution_count": 43,
   "metadata": {},
   "outputs": [
    {
     "name": "stdout",
     "output_type": "stream",
     "text": [
      "R-Square Error for DT train data is : 0.9997863299237543\n"
     ]
    }
   ],
   "source": [
    "R2_dt_train = r2_score(y_train,predlables_ytrain_dt)\n",
    "print('R-Square Error for DT train data is :',R2_dt_train)"
   ]
  },
  {
   "cell_type": "code",
   "execution_count": 44,
   "metadata": {},
   "outputs": [
    {
     "name": "stdout",
     "output_type": "stream",
     "text": [
      "R-Square Error for DT test data is : 0.6595719850293574\n"
     ]
    }
   ],
   "source": [
    "R2_dt_test = r2_score(y_test,predlables_ytest_dt)\n",
    "print('R-Square Error for DT test data is :',R2_dt_test)"
   ]
  },
  {
   "cell_type": "code",
   "execution_count": 45,
   "metadata": {},
   "outputs": [
    {
     "name": "stdout",
     "output_type": "stream",
     "text": [
      "The Adjusted R-square Error for DT train data is : 0.9997854775947018\n"
     ]
    }
   ],
   "source": [
    "adj_r2_dt_train = Adjusted_r2(R2_dt_train,len(X_train))\n",
    "print('The Adjusted R-square Error for DT train data is :',adj_r2_dt_train)"
   ]
  },
  {
   "cell_type": "code",
   "execution_count": 46,
   "metadata": {},
   "outputs": [
    {
     "name": "stdout",
     "output_type": "stream",
     "text": [
      "The Adjusted R-square Error for DT test data is : 0.6540735654057714\n"
     ]
    }
   ],
   "source": [
    "adj_r2_dt_test = Adjusted_r2(R2_dt_test,len(X_test))\n",
    "print('The Adjusted R-square Error for DT test data is :',adj_r2_dt_test)"
   ]
  },
  {
   "cell_type": "markdown",
   "metadata": {},
   "source": [
    "8.**Random Forest**"
   ]
  },
  {
   "cell_type": "code",
   "execution_count": 47,
   "metadata": {},
   "outputs": [
    {
     "name": "stdout",
     "output_type": "stream",
     "text": [
      "RandomForestRegressor()\n"
     ]
    }
   ],
   "source": [
    "from sklearn.ensemble import RandomForestRegressor\n",
    "model2 = RandomForestRegressor()\n",
    "model2.fit(X_train,y_train)\n",
    "print(model2)"
   ]
  },
  {
   "cell_type": "code",
   "execution_count": 48,
   "metadata": {},
   "outputs": [],
   "source": [
    "predlables_ytest_rf = model2.predict(X_test)\n",
    "predlables_ytrain_rf = model2.predict(X_train)"
   ]
  },
  {
   "cell_type": "code",
   "execution_count": 49,
   "metadata": {},
   "outputs": [
    {
     "name": "stdout",
     "output_type": "stream",
     "text": [
      "RMSE for RF train data is : 0.1741482477635338\n"
     ]
    }
   ],
   "source": [
    "RMSE_rf_train = np.sqrt(metrics.mean_squared_error(y_train,predlables_ytrain_rf))\n",
    "print('RMSE for RF train data is :',RMSE_rf_train)"
   ]
  },
  {
   "cell_type": "code",
   "execution_count": 50,
   "metadata": {},
   "outputs": [
    {
     "name": "stdout",
     "output_type": "stream",
     "text": [
      "RMSE for RF test data is : 0.47910913620748335\n"
     ]
    }
   ],
   "source": [
    "RMSE_rf_test = np.sqrt(metrics.mean_squared_error(y_test,predlables_ytest_rf))\n",
    "print('RMSE for RF test data is :',RMSE_rf_test)"
   ]
  },
  {
   "cell_type": "code",
   "execution_count": 51,
   "metadata": {},
   "outputs": [
    {
     "name": "stdout",
     "output_type": "stream",
     "text": [
      "R-Square Error for RF train data is : 0.9696590057615084\n"
     ]
    }
   ],
   "source": [
    "R2_rf_train = r2_score(y_train,predlables_ytrain_rf)\n",
    "print('R-Square Error for RF train data is :',R2_rf_train)"
   ]
  },
  {
   "cell_type": "code",
   "execution_count": 52,
   "metadata": {},
   "outputs": [
    {
     "name": "stdout",
     "output_type": "stream",
     "text": [
      "R-Square Error for RF test data is : 0.770856578422439\n"
     ]
    }
   ],
   "source": [
    "R2_rf_test = r2_score(y_test,predlables_ytest_rf)\n",
    "print('R-Square Error for RF test data is :',R2_rf_test)"
   ]
  },
  {
   "cell_type": "code",
   "execution_count": 53,
   "metadata": {},
   "outputs": [
    {
     "name": "stdout",
     "output_type": "stream",
     "text": [
      "The Adjusted R-square Error for RF train data is : 0.9695379756606947\n"
     ]
    }
   ],
   "source": [
    "adj_r2_rf_train = Adjusted_r2(R2_rf_train,len(X_train))\n",
    "print('The Adjusted R-square Error for RF train data is :',adj_r2_rf_train)"
   ]
  },
  {
   "cell_type": "code",
   "execution_count": 54,
   "metadata": {},
   "outputs": [
    {
     "name": "stdout",
     "output_type": "stream",
     "text": [
      "The Adjusted R-square Error for RF test data is : 0.7671555707779114\n"
     ]
    }
   ],
   "source": [
    "adj_r2_rf_test = Adjusted_r2(R2_rf_test,len(X_test))\n",
    "print('The Adjusted R-square Error for RF test data is :',adj_r2_rf_test)"
   ]
  },
  {
   "cell_type": "markdown",
   "metadata": {},
   "source": [
    "9.**GridSearchCV**"
   ]
  },
  {
   "cell_type": "code",
   "execution_count": 55,
   "metadata": {},
   "outputs": [
    {
     "name": "stdout",
     "output_type": "stream",
     "text": [
      "GridSearchCV(cv=10, estimator=DecisionTreeRegressor(),\n",
      "             param_grid=[{'max_depth': range(2, 60),\n",
      "                          'max_features': ['sqrt', 'log2', None]}],\n",
      "             refit='AUC')\n"
     ]
    }
   ],
   "source": [
    "from sklearn.model_selection import GridSearchCV\n",
    "\n",
    "grid_search = DecisionTreeRegressor()\n",
    "\n",
    "treepara = [{'max_depth': range(2,60), 'max_features': ['sqrt', 'log2', None] }]\n",
    "\n",
    "grid_search_dt = GridSearchCV(grid_search, treepara, cv=10, refit='AUC')\n",
    "grid_search_dt.fit(X_train,y_train)\n",
    "print(grid_search_dt)"
   ]
  },
  {
   "cell_type": "code",
   "execution_count": 56,
   "metadata": {},
   "outputs": [],
   "source": [
    "model4 = grid_search_dt.best_estimator_"
   ]
  },
  {
   "cell_type": "code",
   "execution_count": 57,
   "metadata": {},
   "outputs": [],
   "source": [
    "predlables_ytest_gdt = model4.predict(X_test)\n",
    "predlables_ytrain_gdt = model4.predict(X_train)"
   ]
  },
  {
   "cell_type": "code",
   "execution_count": 58,
   "metadata": {},
   "outputs": [
    {
     "name": "stdout",
     "output_type": "stream",
     "text": [
      "RMSE for GDT train data is : 0.24326090954786286\n"
     ]
    }
   ],
   "source": [
    "RMSE_gdt_train = np.sqrt(metrics.mean_squared_error(y_train,predlables_ytrain_gdt))\n",
    "print('RMSE for GDT train data is :',RMSE_gdt_train)"
   ]
  },
  {
   "cell_type": "code",
   "execution_count": 59,
   "metadata": {},
   "outputs": [
    {
     "name": "stdout",
     "output_type": "stream",
     "text": [
      "RMSE for GDT test data is : 0.5590381076166949\n"
     ]
    }
   ],
   "source": [
    "RMSE_gdt_test = np.sqrt(metrics.mean_squared_error(y_test,predlables_ytest_gdt))\n",
    "print('RMSE for GDT test data is :',RMSE_gdt_test)"
   ]
  },
  {
   "cell_type": "code",
   "execution_count": 60,
   "metadata": {},
   "outputs": [
    {
     "name": "stdout",
     "output_type": "stream",
     "text": [
      "R-Square Error for GDT train data is : 0.9407980185713083\n"
     ]
    }
   ],
   "source": [
    "R2_gdt_train = r2_score(y_train,predlables_ytrain_gdt)\n",
    "print('R-Square Error for GDT train data is :',R2_gdt_train)"
   ]
  },
  {
   "cell_type": "code",
   "execution_count": 61,
   "metadata": {},
   "outputs": [
    {
     "name": "stdout",
     "output_type": "stream",
     "text": [
      "R-Square Error for GDT test data is : 0.6880239069862715\n"
     ]
    }
   ],
   "source": [
    "R2_gdt_test = r2_score(y_test,predlables_ytest_gdt)\n",
    "print('R-Square Error for GDT test data is :',R2_gdt_test)"
   ]
  },
  {
   "cell_type": "code",
   "execution_count": 62,
   "metadata": {},
   "outputs": [
    {
     "name": "stdout",
     "output_type": "stream",
     "text": [
      "The Adjusted R-square Error for GDT train data is : 0.940561862111689\n"
     ]
    }
   ],
   "source": [
    "adj_r2_gdt_train = Adjusted_r2(R2_gdt_train,len(X_train))\n",
    "print('The Adjusted R-square Error for GDT train data is :',adj_r2_gdt_train)"
   ]
  },
  {
   "cell_type": "code",
   "execution_count": 63,
   "metadata": {},
   "outputs": [
    {
     "name": "stdout",
     "output_type": "stream",
     "text": [
      "The Adjusted R-square Error for GDT test data is : 0.6829850282909787\n"
     ]
    }
   ],
   "source": [
    "adj_r2_gdt_test = Adjusted_r2(R2_gdt_test,len(X_test))\n",
    "print('The Adjusted R-square Error for GDT test data is :',adj_r2_gdt_test)"
   ]
  },
  {
   "cell_type": "markdown",
   "metadata": {},
   "source": [
    "10.**RandomizedSearchCV**"
   ]
  },
  {
   "cell_type": "code",
   "execution_count": 64,
   "metadata": {},
   "outputs": [],
   "source": [
    "from sklearn.model_selection import RandomizedSearchCV\n",
    "from scipy.stats import randint as sp_randint\n",
    "\n",
    "pararand = {\"max_depth\": range(2,5),\n",
    "              \"min_samples_split\": sp_randint(2, 11),\n",
    "              \"min_samples_leaf\": sp_randint(1, 11),\n",
    "              \"bootstrap\": [True, False],\n",
    "              \"n_estimators\": [100, 400, 700, 1000, 1500],\n",
    "              'max_features': ['sqrt', 'log2', None]\n",
    "             }\n",
    "\n",
    "n_iter_search = 50\n",
    "random_search = RandomizedSearchCV(model2,param_distributions=pararand,n_iter=n_iter_search,n_jobs=-1)"
   ]
  },
  {
   "cell_type": "code",
   "execution_count": 65,
   "metadata": {},
   "outputs": [],
   "source": [
    "model5 = random_search.fit(X_train,y_train)"
   ]
  },
  {
   "cell_type": "code",
   "execution_count": 66,
   "metadata": {},
   "outputs": [],
   "source": [
    "predlables_ytest_rrf = model5.predict(X_test)\n",
    "predlables_ytrain_rrf = model5.predict(X_train)"
   ]
  },
  {
   "cell_type": "code",
   "execution_count": 67,
   "metadata": {},
   "outputs": [
    {
     "name": "stdout",
     "output_type": "stream",
     "text": [
      "RMSE for RRF train data is : 0.7091515923099773\n"
     ]
    }
   ],
   "source": [
    "RMSE_rrf_train = np.sqrt(metrics.mean_squared_error(y_train,predlables_ytrain_rrf))\n",
    "print('RMSE for RRF train data is :',RMSE_rrf_train)"
   ]
  },
  {
   "cell_type": "code",
   "execution_count": 68,
   "metadata": {},
   "outputs": [
    {
     "name": "stdout",
     "output_type": "stream",
     "text": [
      "RMSE for RRF test data is : 0.707231284295654\n"
     ]
    }
   ],
   "source": [
    "RMSE_rrf_test = np.sqrt(metrics.mean_squared_error(y_test,predlables_ytest_rrf))\n",
    "print('RMSE for RRF test data is :',RMSE_rrf_test)"
   ]
  },
  {
   "cell_type": "code",
   "execution_count": 69,
   "metadata": {},
   "outputs": [
    {
     "name": "stdout",
     "output_type": "stream",
     "text": [
      "R-Square Error for RRF train data is : 0.496882116596021\n"
     ]
    }
   ],
   "source": [
    "R2_rrf_train = r2_score(y_train,predlables_ytrain_rrf)\n",
    "print('R-Square Error for RRF train data is :',R2_rrf_train)"
   ]
  },
  {
   "cell_type": "code",
   "execution_count": 70,
   "metadata": {},
   "outputs": [
    {
     "name": "stdout",
     "output_type": "stream",
     "text": [
      "R-Square Error for RRF test data is : 0.5007001732442358\n"
     ]
    }
   ],
   "source": [
    "R2_rrf_test = r2_score(y_test,predlables_ytest_rrf)\n",
    "print('R-Square Error for RRF test data is :',R2_rrf_test)"
   ]
  },
  {
   "cell_type": "code",
   "execution_count": 71,
   "metadata": {},
   "outputs": [
    {
     "name": "stdout",
     "output_type": "stream",
     "text": [
      "The Adjusted R-square Error for RRF train data is : 0.4948751814352623\n"
     ]
    }
   ],
   "source": [
    "adj_r2_rrf_train = Adjusted_r2(R2_rrf_train,len(X_train))\n",
    "print('The Adjusted R-square Error for RRF train data is :',adj_r2_rrf_train)"
   ]
  },
  {
   "cell_type": "code",
   "execution_count": 72,
   "metadata": {},
   "outputs": [
    {
     "name": "stdout",
     "output_type": "stream",
     "text": [
      "The Adjusted R-square Error for RRF test data is : 0.49263573716742304\n"
     ]
    }
   ],
   "source": [
    "adj_r2_rrf_test = Adjusted_r2(R2_rrf_test,len(X_test))\n",
    "print('The Adjusted R-square Error for RRF test data is :',adj_r2_rrf_test)"
   ]
  },
  {
   "cell_type": "code",
   "execution_count": 79,
   "metadata": {},
   "outputs": [
    {
     "data": {
      "text/html": [
       "<div>\n",
       "<style scoped>\n",
       "    .dataframe tbody tr th:only-of-type {\n",
       "        vertical-align: middle;\n",
       "    }\n",
       "\n",
       "    .dataframe tbody tr th {\n",
       "        vertical-align: top;\n",
       "    }\n",
       "\n",
       "    .dataframe thead th {\n",
       "        text-align: right;\n",
       "    }\n",
       "</style>\n",
       "<table border=\"1\" class=\"dataframe\">\n",
       "  <thead>\n",
       "    <tr style=\"text-align: right;\">\n",
       "      <th></th>\n",
       "      <th>Model</th>\n",
       "      <th>RMSE</th>\n",
       "      <th>R-Square</th>\n",
       "      <th>Adjusted R-square</th>\n",
       "    </tr>\n",
       "  </thead>\n",
       "  <tbody>\n",
       "    <tr>\n",
       "      <th>0</th>\n",
       "      <td>Linear Regression</td>\n",
       "      <td>0.659166</td>\n",
       "      <td>0.566261</td>\n",
       "      <td>0.559256</td>\n",
       "    </tr>\n",
       "    <tr>\n",
       "      <th>1</th>\n",
       "      <td>Decision Tree</td>\n",
       "      <td>0.581627</td>\n",
       "      <td>0.662303</td>\n",
       "      <td>0.656849</td>\n",
       "    </tr>\n",
       "    <tr>\n",
       "      <th>2</th>\n",
       "      <td>Random Forest</td>\n",
       "      <td>0.476693</td>\n",
       "      <td>0.773162</td>\n",
       "      <td>0.769498</td>\n",
       "    </tr>\n",
       "    <tr>\n",
       "      <th>3</th>\n",
       "      <td>GridSearchCV</td>\n",
       "      <td>0.554303</td>\n",
       "      <td>0.693287</td>\n",
       "      <td>0.688333</td>\n",
       "    </tr>\n",
       "    <tr>\n",
       "      <th>4</th>\n",
       "      <td>RandomizedSearchCV</td>\n",
       "      <td>0.707377</td>\n",
       "      <td>0.500495</td>\n",
       "      <td>0.492427</td>\n",
       "    </tr>\n",
       "  </tbody>\n",
       "</table>\n",
       "</div>"
      ],
      "text/plain": [
       "                Model      RMSE  R-Square  Adjusted R-square \n",
       "0   Linear Regression  0.659166  0.566261            0.559256\n",
       "1       Decision Tree  0.581627  0.662303            0.656849\n",
       "2       Random Forest  0.476693  0.773162            0.769498\n",
       "3        GridSearchCV  0.554303  0.693287            0.688333\n",
       "4  RandomizedSearchCV  0.707377  0.500495            0.492427"
      ]
     },
     "execution_count": 79,
     "metadata": {},
     "output_type": "execute_result"
    }
   ],
   "source": [
    "summary = pd.read_csv('D:\\GCDAI\\ML1\\Project\\details.csv')\n",
    "summary"
   ]
  },
  {
   "cell_type": "markdown",
   "metadata": {},
   "source": [
    "11.**Conclusion**\n",
    "\n",
    "- After reviewing Linear Regression, Decision Tree, Random Forest, GridSearchCV and RandomizedSearchCV best prediction model for this data is Random Forest."
   ]
  }
 ],
 "metadata": {
  "kernelspec": {
   "display_name": "Python 3",
   "language": "python",
   "name": "python3"
  },
  "language_info": {
   "codemirror_mode": {
    "name": "ipython",
    "version": 3
   },
   "file_extension": ".py",
   "mimetype": "text/x-python",
   "name": "python",
   "nbconvert_exporter": "python",
   "pygments_lexer": "ipython3",
   "version": "3.8.5"
  }
 },
 "nbformat": 4,
 "nbformat_minor": 4
}
